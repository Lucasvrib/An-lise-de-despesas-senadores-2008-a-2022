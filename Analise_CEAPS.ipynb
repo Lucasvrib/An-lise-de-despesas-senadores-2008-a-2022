{
 "cells": [
  {
   "cell_type": "markdown",
   "id": "3de3b1bd-1a17-44b3-8420-b8987269b014",
   "metadata": {},
   "source": [
    "Carregamento, limpeza e tratamento de dados"
   ]
  },
  {
   "cell_type": "code",
   "execution_count": 1,
   "id": "989609d7-55f4-48b9-bc22-d93defd27bef",
   "metadata": {
    "tags": []
   },
   "outputs": [],
   "source": [
    "#Importando bibliotecas\n",
    "import pandas as pd\n"
   ]
  },
  {
   "cell_type": "code",
   "execution_count": 2,
   "id": "1a3e5020-6894-4be7-8e29-e77c763439ea",
   "metadata": {
    "tags": []
   },
   "outputs": [],
   "source": [
    "# Lista de arquivos a serem lidos\n",
    "arquivos = [\n",
    "    r\"dados/despesa_ceaps_2008.csv\",\n",
    "    r\"dados/despesa_ceaps_2009.csv\",\n",
    "    r\"dados/despesa_ceaps_2010.csv\",\n",
    "    r\"dados/despesa_ceaps_2011.csv\",\n",
    "    r\"dados/despesa_ceaps_2012.csv\",\n",
    "    r\"dados/despesa_ceaps_2013.csv\",\n",
    "    r\"dados/despesa_ceaps_2014.csv\",\n",
    "    r\"dados/despesa_ceaps_2015.csv\",\n",
    "    r\"dados/despesa_ceaps_2016.csv\",\n",
    "    r\"dados/despesa_ceaps_2017.csv\",\n",
    "    r\"dados/despesa_ceaps_2018.csv\",\n",
    "    r\"dados/despesa_ceaps_2019.csv\",\n",
    "    r\"dados/despesa_ceaps_2020.csv\",\n",
    "    r\"dados/despesa_ceaps_2021.csv\",\n",
    "    r\"dados/despesa_ceaps_2022.csv\"\n",
    "]\n"
   ]
  },
  {
   "cell_type": "code",
   "execution_count": 3,
   "id": "c0075f8a-3a43-4633-bcc6-5443c08e5ac3",
   "metadata": {
    "tags": []
   },
   "outputs": [],
   "source": [
    "# Lista para armazenar os DataFrames lidos\n",
    "dataframes = []\n"
   ]
  },
  {
   "cell_type": "code",
   "execution_count": 4,
   "id": "88d6c194-4177-4c24-8495-b7e997801e3b",
   "metadata": {
    "tags": []
   },
   "outputs": [],
   "source": [
    "# Loop para ler cada arquivo e armazenar seu DataFrame correspondente na lista\n",
    "for arquivo in arquivos:\n",
    "    df = pd.read_csv(arquivo, encoding='cp1252', sep=';', skiprows=1)\n",
    "    dataframes.append(df)\n",
    "    "
   ]
  },
  {
   "cell_type": "code",
   "execution_count": 5,
   "id": "21e9c71d-196b-4e18-84ac-fc53e2515b33",
   "metadata": {
    "tags": []
   },
   "outputs": [],
   "source": [
    "# Concatenando os DataFrames da lista em um único DataFrame\n",
    "ceaps_total = pd.concat(dataframes, ignore_index=True)"
   ]
  },
  {
   "cell_type": "code",
   "execution_count": 6,
   "id": "3c2fd34a-5b9f-49d7-9095-998fc04b799b",
   "metadata": {
    "tags": []
   },
   "outputs": [
    {
     "data": {
      "text/html": [
       "<div>\n",
       "<style scoped>\n",
       "    .dataframe tbody tr th:only-of-type {\n",
       "        vertical-align: middle;\n",
       "    }\n",
       "\n",
       "    .dataframe tbody tr th {\n",
       "        vertical-align: top;\n",
       "    }\n",
       "\n",
       "    .dataframe thead th {\n",
       "        text-align: right;\n",
       "    }\n",
       "</style>\n",
       "<table border=\"1\" class=\"dataframe\">\n",
       "  <thead>\n",
       "    <tr style=\"text-align: right;\">\n",
       "      <th></th>\n",
       "      <th>ANO</th>\n",
       "      <th>MES</th>\n",
       "      <th>SENADOR</th>\n",
       "      <th>TIPO_DESPESA</th>\n",
       "      <th>CNPJ_CPF</th>\n",
       "      <th>FORNECEDOR</th>\n",
       "      <th>DOCUMENTO</th>\n",
       "      <th>DATA</th>\n",
       "      <th>DETALHAMENTO</th>\n",
       "      <th>VALOR_REEMBOLSADO</th>\n",
       "      <th>COD_DOCUMENTO</th>\n",
       "    </tr>\n",
       "  </thead>\n",
       "  <tbody>\n",
       "    <tr>\n",
       "      <th>84489</th>\n",
       "      <td>2012</td>\n",
       "      <td>12</td>\n",
       "      <td>MOZARILDO CAVALCANTI</td>\n",
       "      <td>Locomoção, hospedagem, alimentação, combustíve...</td>\n",
       "      <td>01.019.348/0001-93</td>\n",
       "      <td>Minuta Recepções e Serviços de Buffet Ltda - ME</td>\n",
       "      <td>40995</td>\n",
       "      <td>05/12/2012</td>\n",
       "      <td>NaN</td>\n",
       "      <td>131</td>\n",
       "      <td>673306.0</td>\n",
       "    </tr>\n",
       "    <tr>\n",
       "      <th>26963</th>\n",
       "      <td>2010</td>\n",
       "      <td>8</td>\n",
       "      <td>JARBAS VASCONCELOS</td>\n",
       "      <td>Contratação de consultorias, assessorias, pesq...</td>\n",
       "      <td>35.536.846/0001-25</td>\n",
       "      <td>Centro de Pesquisa de Mídia</td>\n",
       "      <td>724</td>\n",
       "      <td>05/08/2010</td>\n",
       "      <td>NaN</td>\n",
       "      <td>800</td>\n",
       "      <td>290441.0</td>\n",
       "    </tr>\n",
       "    <tr>\n",
       "      <th>102228</th>\n",
       "      <td>2013</td>\n",
       "      <td>1</td>\n",
       "      <td>FRANCISCO DORNELLES</td>\n",
       "      <td>Locomoção, hospedagem, alimentação, combustíve...</td>\n",
       "      <td>03.982.176/0001-84</td>\n",
       "      <td>Barra Special Coop</td>\n",
       "      <td>S/Nº</td>\n",
       "      <td>14/01/2013</td>\n",
       "      <td>NaN</td>\n",
       "      <td>65</td>\n",
       "      <td>684936.0</td>\n",
       "    </tr>\n",
       "    <tr>\n",
       "      <th>205886</th>\n",
       "      <td>2017</td>\n",
       "      <td>3</td>\n",
       "      <td>GLEISI HOFFMANN</td>\n",
       "      <td>Aluguel de imóveis para escritório político, c...</td>\n",
       "      <td>12.322.658/0001-07</td>\n",
       "      <td>CONSEG MONITORAMENTO DE ALARMES E COMERCIO LTDA</td>\n",
       "      <td>2369</td>\n",
       "      <td>02/05/2017</td>\n",
       "      <td>Monitoramento de alarme do imóvel destinado ao...</td>\n",
       "      <td>100</td>\n",
       "      <td>2064779.0</td>\n",
       "    </tr>\n",
       "    <tr>\n",
       "      <th>193124</th>\n",
       "      <td>2016</td>\n",
       "      <td>3</td>\n",
       "      <td>SANDRA BRAGA</td>\n",
       "      <td>Passagens aéreas, aquáticas e terrestres nacio...</td>\n",
       "      <td>02.012.862/0001-60</td>\n",
       "      <td>TAM Linhas Aéreas S/A</td>\n",
       "      <td>2094K6</td>\n",
       "      <td>06/03/2016</td>\n",
       "      <td>Companhia Aérea: TAM, Localizador: 2094K6. Pas...</td>\n",
       "      <td>1584</td>\n",
       "      <td>2032774.0</td>\n",
       "    </tr>\n",
       "  </tbody>\n",
       "</table>\n",
       "</div>"
      ],
      "text/plain": [
       "         ANO  MES               SENADOR  \\\n",
       "84489   2012   12  MOZARILDO CAVALCANTI   \n",
       "26963   2010    8    JARBAS VASCONCELOS   \n",
       "102228  2013    1   FRANCISCO DORNELLES   \n",
       "205886  2017    3       GLEISI HOFFMANN   \n",
       "193124  2016    3          SANDRA BRAGA   \n",
       "\n",
       "                                             TIPO_DESPESA            CNPJ_CPF  \\\n",
       "84489   Locomoção, hospedagem, alimentação, combustíve...  01.019.348/0001-93   \n",
       "26963   Contratação de consultorias, assessorias, pesq...  35.536.846/0001-25   \n",
       "102228  Locomoção, hospedagem, alimentação, combustíve...  03.982.176/0001-84   \n",
       "205886  Aluguel de imóveis para escritório político, c...  12.322.658/0001-07   \n",
       "193124  Passagens aéreas, aquáticas e terrestres nacio...  02.012.862/0001-60   \n",
       "\n",
       "                                             FORNECEDOR DOCUMENTO        DATA  \\\n",
       "84489   Minuta Recepções e Serviços de Buffet Ltda - ME     40995  05/12/2012   \n",
       "26963                       Centro de Pesquisa de Mídia       724  05/08/2010   \n",
       "102228                               Barra Special Coop      S/Nº  14/01/2013   \n",
       "205886  CONSEG MONITORAMENTO DE ALARMES E COMERCIO LTDA      2369  02/05/2017   \n",
       "193124                            TAM Linhas Aéreas S/A    2094K6  06/03/2016   \n",
       "\n",
       "                                             DETALHAMENTO VALOR_REEMBOLSADO  \\\n",
       "84489                                                 NaN               131   \n",
       "26963                                                 NaN               800   \n",
       "102228                                                NaN                65   \n",
       "205886  Monitoramento de alarme do imóvel destinado ao...               100   \n",
       "193124  Companhia Aérea: TAM, Localizador: 2094K6. Pas...              1584   \n",
       "\n",
       "        COD_DOCUMENTO  \n",
       "84489        673306.0  \n",
       "26963        290441.0  \n",
       "102228       684936.0  \n",
       "205886      2064779.0  \n",
       "193124      2032774.0  "
      ]
     },
     "execution_count": 6,
     "metadata": {},
     "output_type": "execute_result"
    }
   ],
   "source": [
    "#Verificando linhas aleatórias do DataFrame\n",
    "ceaps_total.sample(5)"
   ]
  },
  {
   "cell_type": "code",
   "execution_count": 7,
   "id": "be489b49-ca4b-44f3-b66d-dc4aed727926",
   "metadata": {
    "tags": []
   },
   "outputs": [],
   "source": [
    "#Removendo coluna 'DOCUMENTO'\n",
    "ceaps_total.drop('DOCUMENTO', axis=1, inplace=True)\n",
    "ceaps_total.drop('COD_DOCUMENTO', axis=1, inplace=True)"
   ]
  },
  {
   "cell_type": "code",
   "execution_count": 8,
   "id": "e7faaba1-b5bd-4c1e-af12-7836822eff57",
   "metadata": {
    "tags": []
   },
   "outputs": [
    {
     "data": {
      "text/plain": [
       "ANO                  False\n",
       "MES                  False\n",
       "SENADOR              False\n",
       "TIPO_DESPESA         False\n",
       "CNPJ_CPF              True\n",
       "FORNECEDOR            True\n",
       "DATA                  True\n",
       "DETALHAMENTO          True\n",
       "VALOR_REEMBOLSADO    False\n",
       "dtype: bool"
      ]
     },
     "execution_count": 8,
     "metadata": {},
     "output_type": "execute_result"
    }
   ],
   "source": [
    "#Verificando valores nulo\n",
    "ceaps_total.isnull().any()"
   ]
  },
  {
   "cell_type": "code",
   "execution_count": 9,
   "id": "9c725169-ce73-4a6f-b477-4f12a9ef03dd",
   "metadata": {
    "tags": []
   },
   "outputs": [],
   "source": [
    "#Tratando valores nulo\n",
    "ceaps_total.CNPJ_CPF = ceaps_total.CNPJ_CPF.fillna('Nao Informado')\n",
    "ceaps_total.FORNECEDOR = ceaps_total.FORNECEDOR.fillna('Nao Informado')\n",
    "ceaps_total.DATA = ceaps_total.DATA.fillna('Nao Informado')\n",
    "ceaps_total.DETALHAMENTO = ceaps_total.DETALHAMENTO.fillna('Nao Informado')"
   ]
  },
  {
   "cell_type": "code",
   "execution_count": 10,
   "id": "d56c007c-a2ac-41dd-9ab6-2a177eddbf26",
   "metadata": {
    "tags": []
   },
   "outputs": [
    {
     "data": {
      "text/plain": [
       "TIPO_DESPESA\n",
       "Locomoção, hospedagem, alimentação, combustíveis e lubrificantes                                                                                                                                   133066\n",
       "Passagens aéreas, aquáticas e terrestres nacionais                                                                                                                                                  68763\n",
       "Aluguel de imóveis para escritório político, compreendendo despesas concernentes a eles.                                                                                                            62625\n",
       "Aquisição de material de consumo para uso no escritório político, inclusive aquisição ou locação de software, despesas postais, aquisição de publicações, locação de móveis e de equipamentos.      25838\n",
       "Divulgação da atividade parlamentar                                                                                                                                                                 13709\n",
       "Contratação de consultorias, assessorias, pesquisas, trabalhos técnicos e outros serviços de apoio ao exercício do mandato parlamentar                                                              13018\n",
       "Serviços de Segurança Privada                                                                                                                                                                         944\n",
       "Name: count, dtype: int64"
      ]
     },
     "execution_count": 10,
     "metadata": {},
     "output_type": "execute_result"
    }
   ],
   "source": [
    "#Verificando coluna 'TIPO_DESPESA'\n",
    "ceaps_total['TIPO_DESPESA'].value_counts()"
   ]
  },
  {
   "cell_type": "code",
   "execution_count": 11,
   "id": "cd0abf28-d1cf-4398-a279-faa3b50525e8",
   "metadata": {
    "tags": []
   },
   "outputs": [],
   "source": [
    "# Dicionário de mapeamento\n",
    "mapa_despesas = {\n",
    "    'Aluguel de imóveis para escritório político, compreendendo despesas concernentes a eles.': 'Aluguel',\n",
    "    'Aquisição de material de consumo para uso no escritório político, inclusive aquisição ou locação de software, despesas postais, aquisição de publicações, locação de móveis e de equipamentos. ': 'Despesas gerais',\n",
    "    'Contratação de consultorias, assessorias, pesquisas, trabalhos técnicos e outros serviços de apoio ao exercício do mandato parlamentar': 'Contratações',\n",
    "    'Locomoção, hospedagem, alimentação, combustíveis e lubrificantes': 'Locomoção, hospedagem e alimentação',\n",
    "    'Passagens aéreas, aquáticas e terrestres nacionais': 'Passagens',\n",
    "    'Divulgação da atividade parlamentar': 'Divulgação',\n",
    "    'Serviços de Segurança Privada': 'Segurança'\n",
    "}"
   ]
  },
  {
   "cell_type": "code",
   "execution_count": 12,
   "id": "028779d7-0051-4798-8cec-18085658062c",
   "metadata": {
    "tags": []
   },
   "outputs": [],
   "source": [
    "# Substituir os valores na própria coluna 'TIPO_DESPESA' usando o dicionário de mapeamento\n",
    "ceaps_total['TIPO_DESPESA'] = ceaps_total['TIPO_DESPESA'].map(mapa_despesas)"
   ]
  },
  {
   "cell_type": "code",
   "execution_count": 13,
   "id": "ae3df1ad-7952-481e-abe1-44aa720aeb0f",
   "metadata": {
    "tags": []
   },
   "outputs": [],
   "source": [
    "# Preencher valores NaN com um valor padrão ou deixar os valores originais\n",
    "ceaps_total['TIPO_DESPESA'] = ceaps_total['TIPO_DESPESA'].fillna('Outros')"
   ]
  },
  {
   "cell_type": "code",
   "execution_count": 14,
   "id": "821b9881-6e4b-46f5-9aff-58b25ddf4b56",
   "metadata": {
    "tags": []
   },
   "outputs": [
    {
     "ename": "ValueError",
     "evalue": "could not convert string to float: '12351,52'",
     "output_type": "error",
     "traceback": [
      "\u001b[1;31m---------------------------------------------------------------------------\u001b[0m",
      "\u001b[1;31mValueError\u001b[0m                                Traceback (most recent call last)",
      "Cell \u001b[1;32mIn[14], line 2\u001b[0m\n\u001b[0;32m      1\u001b[0m \u001b[38;5;66;03m#Convertendo em float\u001b[39;00m\n\u001b[1;32m----> 2\u001b[0m ceaps_total[\u001b[38;5;124m'\u001b[39m\u001b[38;5;124mVALOR_REEMBOLSADO\u001b[39m\u001b[38;5;124m'\u001b[39m] \u001b[38;5;241m=\u001b[39m \u001b[43mceaps_total\u001b[49m\u001b[43m[\u001b[49m\u001b[38;5;124;43m'\u001b[39;49m\u001b[38;5;124;43mVALOR_REEMBOLSADO\u001b[39;49m\u001b[38;5;124;43m'\u001b[39;49m\u001b[43m]\u001b[49m\u001b[38;5;241;43m.\u001b[39;49m\u001b[43mastype\u001b[49m\u001b[43m(\u001b[49m\u001b[38;5;28;43mfloat\u001b[39;49m\u001b[43m)\u001b[49m\n",
      "File \u001b[1;32mc:\\Users\\lucas.vribeiro\\AppData\\Local\\Programs\\Python\\Python312\\Lib\\site-packages\\pandas\\core\\generic.py:6640\u001b[0m, in \u001b[0;36mNDFrame.astype\u001b[1;34m(self, dtype, copy, errors)\u001b[0m\n\u001b[0;32m   6634\u001b[0m     results \u001b[38;5;241m=\u001b[39m [\n\u001b[0;32m   6635\u001b[0m         ser\u001b[38;5;241m.\u001b[39mastype(dtype, copy\u001b[38;5;241m=\u001b[39mcopy, errors\u001b[38;5;241m=\u001b[39merrors) \u001b[38;5;28;01mfor\u001b[39;00m _, ser \u001b[38;5;129;01min\u001b[39;00m \u001b[38;5;28mself\u001b[39m\u001b[38;5;241m.\u001b[39mitems()\n\u001b[0;32m   6636\u001b[0m     ]\n\u001b[0;32m   6638\u001b[0m \u001b[38;5;28;01melse\u001b[39;00m:\n\u001b[0;32m   6639\u001b[0m     \u001b[38;5;66;03m# else, only a single dtype is given\u001b[39;00m\n\u001b[1;32m-> 6640\u001b[0m     new_data \u001b[38;5;241m=\u001b[39m \u001b[38;5;28;43mself\u001b[39;49m\u001b[38;5;241;43m.\u001b[39;49m\u001b[43m_mgr\u001b[49m\u001b[38;5;241;43m.\u001b[39;49m\u001b[43mastype\u001b[49m\u001b[43m(\u001b[49m\u001b[43mdtype\u001b[49m\u001b[38;5;241;43m=\u001b[39;49m\u001b[43mdtype\u001b[49m\u001b[43m,\u001b[49m\u001b[43m \u001b[49m\u001b[43mcopy\u001b[49m\u001b[38;5;241;43m=\u001b[39;49m\u001b[43mcopy\u001b[49m\u001b[43m,\u001b[49m\u001b[43m \u001b[49m\u001b[43merrors\u001b[49m\u001b[38;5;241;43m=\u001b[39;49m\u001b[43merrors\u001b[49m\u001b[43m)\u001b[49m\n\u001b[0;32m   6641\u001b[0m     res \u001b[38;5;241m=\u001b[39m \u001b[38;5;28mself\u001b[39m\u001b[38;5;241m.\u001b[39m_constructor_from_mgr(new_data, axes\u001b[38;5;241m=\u001b[39mnew_data\u001b[38;5;241m.\u001b[39maxes)\n\u001b[0;32m   6642\u001b[0m     \u001b[38;5;28;01mreturn\u001b[39;00m res\u001b[38;5;241m.\u001b[39m__finalize__(\u001b[38;5;28mself\u001b[39m, method\u001b[38;5;241m=\u001b[39m\u001b[38;5;124m\"\u001b[39m\u001b[38;5;124mastype\u001b[39m\u001b[38;5;124m\"\u001b[39m)\n",
      "File \u001b[1;32mc:\\Users\\lucas.vribeiro\\AppData\\Local\\Programs\\Python\\Python312\\Lib\\site-packages\\pandas\\core\\internals\\managers.py:430\u001b[0m, in \u001b[0;36mBaseBlockManager.astype\u001b[1;34m(self, dtype, copy, errors)\u001b[0m\n\u001b[0;32m    427\u001b[0m \u001b[38;5;28;01melif\u001b[39;00m using_copy_on_write():\n\u001b[0;32m    428\u001b[0m     copy \u001b[38;5;241m=\u001b[39m \u001b[38;5;28;01mFalse\u001b[39;00m\n\u001b[1;32m--> 430\u001b[0m \u001b[38;5;28;01mreturn\u001b[39;00m \u001b[38;5;28;43mself\u001b[39;49m\u001b[38;5;241;43m.\u001b[39;49m\u001b[43mapply\u001b[49m\u001b[43m(\u001b[49m\n\u001b[0;32m    431\u001b[0m \u001b[43m    \u001b[49m\u001b[38;5;124;43m\"\u001b[39;49m\u001b[38;5;124;43mastype\u001b[39;49m\u001b[38;5;124;43m\"\u001b[39;49m\u001b[43m,\u001b[49m\n\u001b[0;32m    432\u001b[0m \u001b[43m    \u001b[49m\u001b[43mdtype\u001b[49m\u001b[38;5;241;43m=\u001b[39;49m\u001b[43mdtype\u001b[49m\u001b[43m,\u001b[49m\n\u001b[0;32m    433\u001b[0m \u001b[43m    \u001b[49m\u001b[43mcopy\u001b[49m\u001b[38;5;241;43m=\u001b[39;49m\u001b[43mcopy\u001b[49m\u001b[43m,\u001b[49m\n\u001b[0;32m    434\u001b[0m \u001b[43m    \u001b[49m\u001b[43merrors\u001b[49m\u001b[38;5;241;43m=\u001b[39;49m\u001b[43merrors\u001b[49m\u001b[43m,\u001b[49m\n\u001b[0;32m    435\u001b[0m \u001b[43m    \u001b[49m\u001b[43musing_cow\u001b[49m\u001b[38;5;241;43m=\u001b[39;49m\u001b[43musing_copy_on_write\u001b[49m\u001b[43m(\u001b[49m\u001b[43m)\u001b[49m\u001b[43m,\u001b[49m\n\u001b[0;32m    436\u001b[0m \u001b[43m\u001b[49m\u001b[43m)\u001b[49m\n",
      "File \u001b[1;32mc:\\Users\\lucas.vribeiro\\AppData\\Local\\Programs\\Python\\Python312\\Lib\\site-packages\\pandas\\core\\internals\\managers.py:363\u001b[0m, in \u001b[0;36mBaseBlockManager.apply\u001b[1;34m(self, f, align_keys, **kwargs)\u001b[0m\n\u001b[0;32m    361\u001b[0m         applied \u001b[38;5;241m=\u001b[39m b\u001b[38;5;241m.\u001b[39mapply(f, \u001b[38;5;241m*\u001b[39m\u001b[38;5;241m*\u001b[39mkwargs)\n\u001b[0;32m    362\u001b[0m     \u001b[38;5;28;01melse\u001b[39;00m:\n\u001b[1;32m--> 363\u001b[0m         applied \u001b[38;5;241m=\u001b[39m \u001b[38;5;28;43mgetattr\u001b[39;49m\u001b[43m(\u001b[49m\u001b[43mb\u001b[49m\u001b[43m,\u001b[49m\u001b[43m \u001b[49m\u001b[43mf\u001b[49m\u001b[43m)\u001b[49m\u001b[43m(\u001b[49m\u001b[38;5;241;43m*\u001b[39;49m\u001b[38;5;241;43m*\u001b[39;49m\u001b[43mkwargs\u001b[49m\u001b[43m)\u001b[49m\n\u001b[0;32m    364\u001b[0m     result_blocks \u001b[38;5;241m=\u001b[39m extend_blocks(applied, result_blocks)\n\u001b[0;32m    366\u001b[0m out \u001b[38;5;241m=\u001b[39m \u001b[38;5;28mtype\u001b[39m(\u001b[38;5;28mself\u001b[39m)\u001b[38;5;241m.\u001b[39mfrom_blocks(result_blocks, \u001b[38;5;28mself\u001b[39m\u001b[38;5;241m.\u001b[39maxes)\n",
      "File \u001b[1;32mc:\\Users\\lucas.vribeiro\\AppData\\Local\\Programs\\Python\\Python312\\Lib\\site-packages\\pandas\\core\\internals\\blocks.py:758\u001b[0m, in \u001b[0;36mBlock.astype\u001b[1;34m(self, dtype, copy, errors, using_cow, squeeze)\u001b[0m\n\u001b[0;32m    755\u001b[0m         \u001b[38;5;28;01mraise\u001b[39;00m \u001b[38;5;167;01mValueError\u001b[39;00m(\u001b[38;5;124m\"\u001b[39m\u001b[38;5;124mCan not squeeze with more than one column.\u001b[39m\u001b[38;5;124m\"\u001b[39m)\n\u001b[0;32m    756\u001b[0m     values \u001b[38;5;241m=\u001b[39m values[\u001b[38;5;241m0\u001b[39m, :]  \u001b[38;5;66;03m# type: ignore[call-overload]\u001b[39;00m\n\u001b[1;32m--> 758\u001b[0m new_values \u001b[38;5;241m=\u001b[39m \u001b[43mastype_array_safe\u001b[49m\u001b[43m(\u001b[49m\u001b[43mvalues\u001b[49m\u001b[43m,\u001b[49m\u001b[43m \u001b[49m\u001b[43mdtype\u001b[49m\u001b[43m,\u001b[49m\u001b[43m \u001b[49m\u001b[43mcopy\u001b[49m\u001b[38;5;241;43m=\u001b[39;49m\u001b[43mcopy\u001b[49m\u001b[43m,\u001b[49m\u001b[43m \u001b[49m\u001b[43merrors\u001b[49m\u001b[38;5;241;43m=\u001b[39;49m\u001b[43merrors\u001b[49m\u001b[43m)\u001b[49m\n\u001b[0;32m    760\u001b[0m new_values \u001b[38;5;241m=\u001b[39m maybe_coerce_values(new_values)\n\u001b[0;32m    762\u001b[0m refs \u001b[38;5;241m=\u001b[39m \u001b[38;5;28;01mNone\u001b[39;00m\n",
      "File \u001b[1;32mc:\\Users\\lucas.vribeiro\\AppData\\Local\\Programs\\Python\\Python312\\Lib\\site-packages\\pandas\\core\\dtypes\\astype.py:237\u001b[0m, in \u001b[0;36mastype_array_safe\u001b[1;34m(values, dtype, copy, errors)\u001b[0m\n\u001b[0;32m    234\u001b[0m     dtype \u001b[38;5;241m=\u001b[39m dtype\u001b[38;5;241m.\u001b[39mnumpy_dtype\n\u001b[0;32m    236\u001b[0m \u001b[38;5;28;01mtry\u001b[39;00m:\n\u001b[1;32m--> 237\u001b[0m     new_values \u001b[38;5;241m=\u001b[39m \u001b[43mastype_array\u001b[49m\u001b[43m(\u001b[49m\u001b[43mvalues\u001b[49m\u001b[43m,\u001b[49m\u001b[43m \u001b[49m\u001b[43mdtype\u001b[49m\u001b[43m,\u001b[49m\u001b[43m \u001b[49m\u001b[43mcopy\u001b[49m\u001b[38;5;241;43m=\u001b[39;49m\u001b[43mcopy\u001b[49m\u001b[43m)\u001b[49m\n\u001b[0;32m    238\u001b[0m \u001b[38;5;28;01mexcept\u001b[39;00m (\u001b[38;5;167;01mValueError\u001b[39;00m, \u001b[38;5;167;01mTypeError\u001b[39;00m):\n\u001b[0;32m    239\u001b[0m     \u001b[38;5;66;03m# e.g. _astype_nansafe can fail on object-dtype of strings\u001b[39;00m\n\u001b[0;32m    240\u001b[0m     \u001b[38;5;66;03m#  trying to convert to float\u001b[39;00m\n\u001b[0;32m    241\u001b[0m     \u001b[38;5;28;01mif\u001b[39;00m errors \u001b[38;5;241m==\u001b[39m \u001b[38;5;124m\"\u001b[39m\u001b[38;5;124mignore\u001b[39m\u001b[38;5;124m\"\u001b[39m:\n",
      "File \u001b[1;32mc:\\Users\\lucas.vribeiro\\AppData\\Local\\Programs\\Python\\Python312\\Lib\\site-packages\\pandas\\core\\dtypes\\astype.py:182\u001b[0m, in \u001b[0;36mastype_array\u001b[1;34m(values, dtype, copy)\u001b[0m\n\u001b[0;32m    179\u001b[0m     values \u001b[38;5;241m=\u001b[39m values\u001b[38;5;241m.\u001b[39mastype(dtype, copy\u001b[38;5;241m=\u001b[39mcopy)\n\u001b[0;32m    181\u001b[0m \u001b[38;5;28;01melse\u001b[39;00m:\n\u001b[1;32m--> 182\u001b[0m     values \u001b[38;5;241m=\u001b[39m \u001b[43m_astype_nansafe\u001b[49m\u001b[43m(\u001b[49m\u001b[43mvalues\u001b[49m\u001b[43m,\u001b[49m\u001b[43m \u001b[49m\u001b[43mdtype\u001b[49m\u001b[43m,\u001b[49m\u001b[43m \u001b[49m\u001b[43mcopy\u001b[49m\u001b[38;5;241;43m=\u001b[39;49m\u001b[43mcopy\u001b[49m\u001b[43m)\u001b[49m\n\u001b[0;32m    184\u001b[0m \u001b[38;5;66;03m# in pandas we don't store numpy str dtypes, so convert to object\u001b[39;00m\n\u001b[0;32m    185\u001b[0m \u001b[38;5;28;01mif\u001b[39;00m \u001b[38;5;28misinstance\u001b[39m(dtype, np\u001b[38;5;241m.\u001b[39mdtype) \u001b[38;5;129;01mand\u001b[39;00m \u001b[38;5;28missubclass\u001b[39m(values\u001b[38;5;241m.\u001b[39mdtype\u001b[38;5;241m.\u001b[39mtype, \u001b[38;5;28mstr\u001b[39m):\n",
      "File \u001b[1;32mc:\\Users\\lucas.vribeiro\\AppData\\Local\\Programs\\Python\\Python312\\Lib\\site-packages\\pandas\\core\\dtypes\\astype.py:133\u001b[0m, in \u001b[0;36m_astype_nansafe\u001b[1;34m(arr, dtype, copy, skipna)\u001b[0m\n\u001b[0;32m    129\u001b[0m     \u001b[38;5;28;01mraise\u001b[39;00m \u001b[38;5;167;01mValueError\u001b[39;00m(msg)\n\u001b[0;32m    131\u001b[0m \u001b[38;5;28;01mif\u001b[39;00m copy \u001b[38;5;129;01mor\u001b[39;00m arr\u001b[38;5;241m.\u001b[39mdtype \u001b[38;5;241m==\u001b[39m \u001b[38;5;28mobject\u001b[39m \u001b[38;5;129;01mor\u001b[39;00m dtype \u001b[38;5;241m==\u001b[39m \u001b[38;5;28mobject\u001b[39m:\n\u001b[0;32m    132\u001b[0m     \u001b[38;5;66;03m# Explicit copy, or required since NumPy can't view from / to object.\u001b[39;00m\n\u001b[1;32m--> 133\u001b[0m     \u001b[38;5;28;01mreturn\u001b[39;00m \u001b[43marr\u001b[49m\u001b[38;5;241;43m.\u001b[39;49m\u001b[43mastype\u001b[49m\u001b[43m(\u001b[49m\u001b[43mdtype\u001b[49m\u001b[43m,\u001b[49m\u001b[43m \u001b[49m\u001b[43mcopy\u001b[49m\u001b[38;5;241;43m=\u001b[39;49m\u001b[38;5;28;43;01mTrue\u001b[39;49;00m\u001b[43m)\u001b[49m\n\u001b[0;32m    135\u001b[0m \u001b[38;5;28;01mreturn\u001b[39;00m arr\u001b[38;5;241m.\u001b[39mastype(dtype, copy\u001b[38;5;241m=\u001b[39mcopy)\n",
      "\u001b[1;31mValueError\u001b[0m: could not convert string to float: '12351,52'"
     ]
    }
   ],
   "source": [
    "#Convertendo em float\n",
    "ceaps_total['VALOR_REEMBOLSADO'] = ceaps_total['VALOR_REEMBOLSADO'].astype(float)"
   ]
  },
  {
   "cell_type": "markdown",
   "id": "49784850-ebfc-497c-888d-e706007356dd",
   "metadata": {},
   "source": [
    "Não foi possivel converter a coluna em float, pois existem valores de reembolso com centavos representados pela vírgula"
   ]
  },
  {
   "cell_type": "code",
   "execution_count": 15,
   "id": "ff1edeac-71ba-4bcb-becb-e7d520b9fc77",
   "metadata": {
    "tags": []
   },
   "outputs": [],
   "source": [
    "#Tratando coluna VALOR_REEMBOLSADO\n",
    "ceaps_total['VALOR_REEMBOLSADO'] = ceaps_total['VALOR_REEMBOLSADO'].str.replace('.', '')\n",
    "ceaps_total['VALOR_REEMBOLSADO'] = ceaps_total['VALOR_REEMBOLSADO'].str.replace(',', '.')"
   ]
  },
  {
   "cell_type": "code",
   "execution_count": 16,
   "id": "4f196c15-f15b-4393-ba89-3f1db2222c6f",
   "metadata": {
    "tags": []
   },
   "outputs": [],
   "source": [
    "ceaps_total['VALOR_REEMBOLSADO'] = ceaps_total['VALOR_REEMBOLSADO'].str.replace('\\r\\n', '', regex=False)\n",
    "ceaps_total['VALOR_REEMBOLSADO'] = ceaps_total['VALOR_REEMBOLSADO'].str.strip()"
   ]
  },
  {
   "cell_type": "code",
   "execution_count": 17,
   "id": "9ed3efad-429c-4ede-9c27-7f83392125ec",
   "metadata": {
    "tags": []
   },
   "outputs": [],
   "source": [
    "#Convertendo em float\n",
    "ceaps_total['VALOR_REEMBOLSADO'] = ceaps_total['VALOR_REEMBOLSADO'].astype(float)"
   ]
  },
  {
   "cell_type": "code",
   "execution_count": 18,
   "id": "cbc9e2b9-b449-4d23-999b-62abe328751a",
   "metadata": {
    "tags": []
   },
   "outputs": [
    {
     "data": {
      "text/plain": [
       "count    3.179630e+05\n",
       "mean     1.031730e+03\n",
       "std      5.682034e+03\n",
       "min     -1.500000e+03\n",
       "25%      1.000000e+02\n",
       "50%      2.835000e+02\n",
       "75%      1.000000e+03\n",
       "max      2.016557e+06\n",
       "Name: VALOR_REEMBOLSADO, dtype: float64"
      ]
     },
     "execution_count": 18,
     "metadata": {},
     "output_type": "execute_result"
    }
   ],
   "source": [
    "#Verificando coluna VALOR_REEMBOLSADO\n",
    "ceaps_total['VALOR_REEMBOLSADO'].describe()"
   ]
  },
  {
   "cell_type": "code",
   "execution_count": 19,
   "id": "a6c3d1aa-037b-4fa2-b57c-e5c4c2cd5110",
   "metadata": {
    "tags": []
   },
   "outputs": [
    {
     "data": {
      "text/html": [
       "<div>\n",
       "<style scoped>\n",
       "    .dataframe tbody tr th:only-of-type {\n",
       "        vertical-align: middle;\n",
       "    }\n",
       "\n",
       "    .dataframe tbody tr th {\n",
       "        vertical-align: top;\n",
       "    }\n",
       "\n",
       "    .dataframe thead th {\n",
       "        text-align: right;\n",
       "    }\n",
       "</style>\n",
       "<table border=\"1\" class=\"dataframe\">\n",
       "  <thead>\n",
       "    <tr style=\"text-align: right;\">\n",
       "      <th></th>\n",
       "      <th>ANO</th>\n",
       "      <th>MES</th>\n",
       "      <th>SENADOR</th>\n",
       "      <th>TIPO_DESPESA</th>\n",
       "      <th>CNPJ_CPF</th>\n",
       "      <th>FORNECEDOR</th>\n",
       "      <th>DATA</th>\n",
       "      <th>DETALHAMENTO</th>\n",
       "      <th>VALOR_REEMBOLSADO</th>\n",
       "    </tr>\n",
       "  </thead>\n",
       "  <tbody>\n",
       "    <tr>\n",
       "      <th>152315</th>\n",
       "      <td>2015</td>\n",
       "      <td>2</td>\n",
       "      <td>GLADSON CAMELI</td>\n",
       "      <td>Aluguel</td>\n",
       "      <td>63.600.449/0001-00</td>\n",
       "      <td>Arras Adm. de Bens Imóveis Limpeza e Conservaç...</td>\n",
       "      <td>15/01/2015</td>\n",
       "      <td>Contrato de locação de Imóvel comercial do esc...</td>\n",
       "      <td>-1500.0</td>\n",
       "    </tr>\n",
       "    <tr>\n",
       "      <th>163225</th>\n",
       "      <td>2015</td>\n",
       "      <td>1</td>\n",
       "      <td>RANDOLFE RODRIGUES</td>\n",
       "      <td>Passagens</td>\n",
       "      <td>02.012.862/0001-60</td>\n",
       "      <td>Tam Linhas Aereas S/A</td>\n",
       "      <td>28/01/2015</td>\n",
       "      <td>9572100929351 - R$ 1.298,93 (1º bilhete emitid...</td>\n",
       "      <td>-9.0</td>\n",
       "    </tr>\n",
       "    <tr>\n",
       "      <th>201499</th>\n",
       "      <td>2017</td>\n",
       "      <td>5</td>\n",
       "      <td>DÁRIO BERGER</td>\n",
       "      <td>Contratações</td>\n",
       "      <td>73.228.876/0001-63</td>\n",
       "      <td>TV CLIPAGEM LTDA. EPP.</td>\n",
       "      <td>02/06/2017</td>\n",
       "      <td>Despesa com Monitoramento de Informação Jornal...</td>\n",
       "      <td>-243.4</td>\n",
       "    </tr>\n",
       "  </tbody>\n",
       "</table>\n",
       "</div>"
      ],
      "text/plain": [
       "         ANO  MES             SENADOR  TIPO_DESPESA            CNPJ_CPF  \\\n",
       "152315  2015    2      GLADSON CAMELI       Aluguel  63.600.449/0001-00   \n",
       "163225  2015    1  RANDOLFE RODRIGUES     Passagens  02.012.862/0001-60   \n",
       "201499  2017    5        DÁRIO BERGER  Contratações  73.228.876/0001-63   \n",
       "\n",
       "                                               FORNECEDOR        DATA  \\\n",
       "152315  Arras Adm. de Bens Imóveis Limpeza e Conservaç...  15/01/2015   \n",
       "163225                              Tam Linhas Aereas S/A  28/01/2015   \n",
       "201499                             TV CLIPAGEM LTDA. EPP.  02/06/2017   \n",
       "\n",
       "                                             DETALHAMENTO  VALOR_REEMBOLSADO  \n",
       "152315  Contrato de locação de Imóvel comercial do esc...            -1500.0  \n",
       "163225  9572100929351 - R$ 1.298,93 (1º bilhete emitid...               -9.0  \n",
       "201499  Despesa com Monitoramento de Informação Jornal...             -243.4  "
      ]
     },
     "execution_count": 19,
     "metadata": {},
     "output_type": "execute_result"
    }
   ],
   "source": [
    "#Verificando valores negativos\n",
    "ceaps_total[ceaps_total['VALOR_REEMBOLSADO']<0]"
   ]
  },
  {
   "cell_type": "code",
   "execution_count": 20,
   "id": "5ebc874b-2193-4580-8028-df4cddbae0a5",
   "metadata": {
    "tags": []
   },
   "outputs": [],
   "source": [
    "#Convertendo os valores negativos para valores absolutos\n",
    "ceaps_total['VALOR_REEMBOLSADO'] = abs(ceaps_total['VALOR_REEMBOLSADO'])"
   ]
  },
  {
   "cell_type": "code",
   "execution_count": 21,
   "id": "760c5ac6-d1bf-4984-a219-7bc385c45e58",
   "metadata": {
    "tags": []
   },
   "outputs": [
    {
     "data": {
      "text/html": [
       "<div>\n",
       "<style scoped>\n",
       "    .dataframe tbody tr th:only-of-type {\n",
       "        vertical-align: middle;\n",
       "    }\n",
       "\n",
       "    .dataframe tbody tr th {\n",
       "        vertical-align: top;\n",
       "    }\n",
       "\n",
       "    .dataframe thead th {\n",
       "        text-align: right;\n",
       "    }\n",
       "</style>\n",
       "<table border=\"1\" class=\"dataframe\">\n",
       "  <thead>\n",
       "    <tr style=\"text-align: right;\">\n",
       "      <th></th>\n",
       "      <th>ANO</th>\n",
       "      <th>MES</th>\n",
       "      <th>SENADOR</th>\n",
       "      <th>TIPO_DESPESA</th>\n",
       "      <th>CNPJ_CPF</th>\n",
       "      <th>FORNECEDOR</th>\n",
       "      <th>DATA</th>\n",
       "      <th>DETALHAMENTO</th>\n",
       "      <th>VALOR_REEMBOLSADO</th>\n",
       "    </tr>\n",
       "  </thead>\n",
       "  <tbody>\n",
       "    <tr>\n",
       "      <th>150213</th>\n",
       "      <td>2015</td>\n",
       "      <td>8</td>\n",
       "      <td>EDUARDO AMORIM</td>\n",
       "      <td>Passagens</td>\n",
       "      <td>13.353.495/0001-84</td>\n",
       "      <td>PROPAGTUR - Propag Turismo Ltda</td>\n",
       "      <td>Companhia Aérea: TAM, Localizador: YXGDSJ. Pas...</td>\n",
       "      <td>469,53</td>\n",
       "      <td>2014675.0</td>\n",
       "    </tr>\n",
       "    <tr>\n",
       "      <th>150220</th>\n",
       "      <td>2015</td>\n",
       "      <td>8</td>\n",
       "      <td>EDUARDO AMORIM</td>\n",
       "      <td>Passagens</td>\n",
       "      <td>13.353.495/0001-84</td>\n",
       "      <td>PROPAGTUR - Propag Turismo Ltda</td>\n",
       "      <td>Companhia Aérea: AVIANCA, Localizador: ZNEU9F....</td>\n",
       "      <td>460,45</td>\n",
       "      <td>2016557.0</td>\n",
       "    </tr>\n",
       "  </tbody>\n",
       "</table>\n",
       "</div>"
      ],
      "text/plain": [
       "         ANO  MES         SENADOR TIPO_DESPESA            CNPJ_CPF  \\\n",
       "150213  2015    8  EDUARDO AMORIM    Passagens  13.353.495/0001-84   \n",
       "150220  2015    8  EDUARDO AMORIM    Passagens  13.353.495/0001-84   \n",
       "\n",
       "                             FORNECEDOR  \\\n",
       "150213  PROPAGTUR - Propag Turismo Ltda   \n",
       "150220  PROPAGTUR - Propag Turismo Ltda   \n",
       "\n",
       "                                                     DATA DETALHAMENTO  \\\n",
       "150213  Companhia Aérea: TAM, Localizador: YXGDSJ. Pas...       469,53   \n",
       "150220  Companhia Aérea: AVIANCA, Localizador: ZNEU9F....       460,45   \n",
       "\n",
       "        VALOR_REEMBOLSADO  \n",
       "150213          2014675.0  \n",
       "150220          2016557.0  "
      ]
     },
     "execution_count": 21,
     "metadata": {},
     "output_type": "execute_result"
    }
   ],
   "source": [
    "#Verificando valores maiores que 1 Milhão\n",
    "ceaps_total[ceaps_total['VALOR_REEMBOLSADO']>1000000]"
   ]
  },
  {
   "cell_type": "markdown",
   "id": "9159cd4b-aacc-41ed-80a7-8572133dc431",
   "metadata": {},
   "source": [
    "Erro de digitação, foi digitado os valores nos campos errados"
   ]
  },
  {
   "cell_type": "code",
   "execution_count": 22,
   "id": "eae6f2df-de1c-460f-a2dd-59f5f754d80e",
   "metadata": {
    "tags": []
   },
   "outputs": [],
   "source": [
    "ceaps_total.loc[[150213],'VALOR_REEMBOLSADO']=ceaps_total.loc[[150213],'VALOR_REEMBOLSADO'].replace(2014675.0, 469.53)\n",
    "ceaps_total.loc[[150220],'VALOR_REEMBOLSADO']=ceaps_total.loc[[150220],'VALOR_REEMBOLSADO'].replace(2016557.0, 460.45)"
   ]
  },
  {
   "cell_type": "code",
   "execution_count": 23,
   "id": "a0b97056-90f7-4686-93e4-0eec2da285be",
   "metadata": {
    "tags": []
   },
   "outputs": [
    {
     "data": {
      "text/html": [
       "<div>\n",
       "<style scoped>\n",
       "    .dataframe tbody tr th:only-of-type {\n",
       "        vertical-align: middle;\n",
       "    }\n",
       "\n",
       "    .dataframe tbody tr th {\n",
       "        vertical-align: top;\n",
       "    }\n",
       "\n",
       "    .dataframe thead th {\n",
       "        text-align: right;\n",
       "    }\n",
       "</style>\n",
       "<table border=\"1\" class=\"dataframe\">\n",
       "  <thead>\n",
       "    <tr style=\"text-align: right;\">\n",
       "      <th></th>\n",
       "      <th>ANO</th>\n",
       "      <th>MES</th>\n",
       "      <th>SENADOR</th>\n",
       "      <th>TIPO_DESPESA</th>\n",
       "      <th>CNPJ_CPF</th>\n",
       "      <th>FORNECEDOR</th>\n",
       "      <th>DATA</th>\n",
       "      <th>DETALHAMENTO</th>\n",
       "      <th>VALOR_REEMBOLSADO</th>\n",
       "    </tr>\n",
       "  </thead>\n",
       "  <tbody>\n",
       "    <tr>\n",
       "      <th>150213</th>\n",
       "      <td>2015</td>\n",
       "      <td>8</td>\n",
       "      <td>EDUARDO AMORIM</td>\n",
       "      <td>Passagens</td>\n",
       "      <td>13.353.495/0001-84</td>\n",
       "      <td>PROPAGTUR - Propag Turismo Ltda</td>\n",
       "      <td>Companhia Aérea: TAM, Localizador: YXGDSJ. Pas...</td>\n",
       "      <td>469,53</td>\n",
       "      <td>469.53</td>\n",
       "    </tr>\n",
       "    <tr>\n",
       "      <th>150220</th>\n",
       "      <td>2015</td>\n",
       "      <td>8</td>\n",
       "      <td>EDUARDO AMORIM</td>\n",
       "      <td>Passagens</td>\n",
       "      <td>13.353.495/0001-84</td>\n",
       "      <td>PROPAGTUR - Propag Turismo Ltda</td>\n",
       "      <td>Companhia Aérea: AVIANCA, Localizador: ZNEU9F....</td>\n",
       "      <td>460,45</td>\n",
       "      <td>460.45</td>\n",
       "    </tr>\n",
       "  </tbody>\n",
       "</table>\n",
       "</div>"
      ],
      "text/plain": [
       "         ANO  MES         SENADOR TIPO_DESPESA            CNPJ_CPF  \\\n",
       "150213  2015    8  EDUARDO AMORIM    Passagens  13.353.495/0001-84   \n",
       "150220  2015    8  EDUARDO AMORIM    Passagens  13.353.495/0001-84   \n",
       "\n",
       "                             FORNECEDOR  \\\n",
       "150213  PROPAGTUR - Propag Turismo Ltda   \n",
       "150220  PROPAGTUR - Propag Turismo Ltda   \n",
       "\n",
       "                                                     DATA DETALHAMENTO  \\\n",
       "150213  Companhia Aérea: TAM, Localizador: YXGDSJ. Pas...       469,53   \n",
       "150220  Companhia Aérea: AVIANCA, Localizador: ZNEU9F....       460,45   \n",
       "\n",
       "        VALOR_REEMBOLSADO  \n",
       "150213             469.53  \n",
       "150220             460.45  "
      ]
     },
     "execution_count": 23,
     "metadata": {},
     "output_type": "execute_result"
    }
   ],
   "source": [
    "ceaps_total.loc[[150213,150220]]"
   ]
  },
  {
   "cell_type": "code",
   "execution_count": 24,
   "id": "a05b062d-8b33-49b9-8527-8be100f89221",
   "metadata": {
    "tags": []
   },
   "outputs": [
    {
     "data": {
      "text/html": [
       "<div>\n",
       "<style scoped>\n",
       "    .dataframe tbody tr th:only-of-type {\n",
       "        vertical-align: middle;\n",
       "    }\n",
       "\n",
       "    .dataframe tbody tr th {\n",
       "        vertical-align: top;\n",
       "    }\n",
       "\n",
       "    .dataframe thead th {\n",
       "        text-align: right;\n",
       "    }\n",
       "</style>\n",
       "<table border=\"1\" class=\"dataframe\">\n",
       "  <thead>\n",
       "    <tr style=\"text-align: right;\">\n",
       "      <th></th>\n",
       "      <th>ANO</th>\n",
       "      <th>MES</th>\n",
       "      <th>SENADOR</th>\n",
       "      <th>TIPO_DESPESA</th>\n",
       "      <th>CNPJ_CPF</th>\n",
       "      <th>FORNECEDOR</th>\n",
       "      <th>DATA</th>\n",
       "      <th>DETALHAMENTO</th>\n",
       "      <th>VALOR_REEMBOLSADO</th>\n",
       "    </tr>\n",
       "  </thead>\n",
       "  <tbody>\n",
       "    <tr>\n",
       "      <th>175836</th>\n",
       "      <td>2016</td>\n",
       "      <td>10</td>\n",
       "      <td>EDUARDO AMORIM</td>\n",
       "      <td>Locomoção, hospedagem e alimentação</td>\n",
       "      <td>16.194.581/0001-80</td>\n",
       "      <td>Posto São Carlos Ltda</td>\n",
       "      <td>30/10/2016</td>\n",
       "      <td>Referente a despesa com 61,771 litros de gasol...</td>\n",
       "      <td>226.02</td>\n",
       "    </tr>\n",
       "    <tr>\n",
       "      <th>281332</th>\n",
       "      <td>2020</td>\n",
       "      <td>2</td>\n",
       "      <td>RODRIGO PACHECO</td>\n",
       "      <td>Locomoção, hospedagem e alimentação</td>\n",
       "      <td>23.928.782/0002-00</td>\n",
       "      <td>GAMA HOTELARIA E EMPREENDIMENTOS LTDA</td>\n",
       "      <td>07/02/2020</td>\n",
       "      <td>Nao Informado</td>\n",
       "      <td>597.00</td>\n",
       "    </tr>\n",
       "    <tr>\n",
       "      <th>111419</th>\n",
       "      <td>2013</td>\n",
       "      <td>12</td>\n",
       "      <td>MAGNO MALTA</td>\n",
       "      <td>Passagens</td>\n",
       "      <td>02.012.862/0001-60</td>\n",
       "      <td>TAM LINHAS AEREAS</td>\n",
       "      <td>06/12/2013</td>\n",
       "      <td>Nome: Magno Malta Cargo: Senador da República ...</td>\n",
       "      <td>684.65</td>\n",
       "    </tr>\n",
       "    <tr>\n",
       "      <th>255703</th>\n",
       "      <td>2019</td>\n",
       "      <td>11</td>\n",
       "      <td>HUMBERTO COSTA</td>\n",
       "      <td>Locomoção, hospedagem e alimentação</td>\n",
       "      <td>32.086.320/0001-00</td>\n",
       "      <td>Restaurante Same Same Ltda</td>\n",
       "      <td>30/11/2019</td>\n",
       "      <td>): Despesa com refeição e bebidas não alcoólic...</td>\n",
       "      <td>120.00</td>\n",
       "    </tr>\n",
       "    <tr>\n",
       "      <th>296947</th>\n",
       "      <td>2021</td>\n",
       "      <td>5</td>\n",
       "      <td>PLÍNIO VALÉRIO</td>\n",
       "      <td>Locomoção, hospedagem e alimentação</td>\n",
       "      <td>22.138.345/0002-20</td>\n",
       "      <td>Vale do Pitinga Comercio de Derivados de Petró...</td>\n",
       "      <td>20/05/2021</td>\n",
       "      <td>Nao Informado</td>\n",
       "      <td>100.00</td>\n",
       "    </tr>\n",
       "    <tr>\n",
       "      <th>153661</th>\n",
       "      <td>2015</td>\n",
       "      <td>8</td>\n",
       "      <td>HUMBERTO COSTA</td>\n",
       "      <td>Locomoção, hospedagem e alimentação</td>\n",
       "      <td>05.786.539/0001-31</td>\n",
       "      <td>JF Combustiveis e Derivados Ltda</td>\n",
       "      <td>28/08/2015</td>\n",
       "      <td>Aquisição de combustível para veículos utiliza...</td>\n",
       "      <td>50.00</td>\n",
       "    </tr>\n",
       "    <tr>\n",
       "      <th>276609</th>\n",
       "      <td>2020</td>\n",
       "      <td>10</td>\n",
       "      <td>JOSÉ MARANHÃO</td>\n",
       "      <td>Divulgação</td>\n",
       "      <td>30.178.949/0001-47</td>\n",
       "      <td>EXTRA MARKETING POLITICO LTDA</td>\n",
       "      <td>13/10/2020</td>\n",
       "      <td>Nao Informado</td>\n",
       "      <td>3000.00</td>\n",
       "    </tr>\n",
       "    <tr>\n",
       "      <th>244059</th>\n",
       "      <td>2018</td>\n",
       "      <td>4</td>\n",
       "      <td>ROMÁRIO</td>\n",
       "      <td>Passagens</td>\n",
       "      <td>16.978.175/0001-08</td>\n",
       "      <td>Adria Viagens e Turismo LTDA ME</td>\n",
       "      <td>06/04/2018</td>\n",
       "      <td>Companhia Aérea: AVIANCA, Localizador: WNYIIL....</td>\n",
       "      <td>530.95</td>\n",
       "    </tr>\n",
       "    <tr>\n",
       "      <th>65015</th>\n",
       "      <td>2012</td>\n",
       "      <td>12</td>\n",
       "      <td>ÂNGELA PORTELA</td>\n",
       "      <td>Locomoção, hospedagem e alimentação</td>\n",
       "      <td>04.042.311/0001-74</td>\n",
       "      <td>AUTO POSTO TRIANGULO LTDA</td>\n",
       "      <td>26/12/2012</td>\n",
       "      <td>Nao Informado</td>\n",
       "      <td>4216.46</td>\n",
       "    </tr>\n",
       "    <tr>\n",
       "      <th>64196</th>\n",
       "      <td>2012</td>\n",
       "      <td>6</td>\n",
       "      <td>ANA AMÉLIA</td>\n",
       "      <td>Locomoção, hospedagem e alimentação</td>\n",
       "      <td>13.459.455/0002-00</td>\n",
       "      <td>Com. de Comb. Voluntários da Pátria Ltda</td>\n",
       "      <td>11/06/2012</td>\n",
       "      <td>Nao Informado</td>\n",
       "      <td>50.00</td>\n",
       "    </tr>\n",
       "  </tbody>\n",
       "</table>\n",
       "</div>"
      ],
      "text/plain": [
       "         ANO  MES          SENADOR                         TIPO_DESPESA  \\\n",
       "175836  2016   10   EDUARDO AMORIM  Locomoção, hospedagem e alimentação   \n",
       "281332  2020    2  RODRIGO PACHECO  Locomoção, hospedagem e alimentação   \n",
       "111419  2013   12      MAGNO MALTA                            Passagens   \n",
       "255703  2019   11   HUMBERTO COSTA  Locomoção, hospedagem e alimentação   \n",
       "296947  2021    5   PLÍNIO VALÉRIO  Locomoção, hospedagem e alimentação   \n",
       "153661  2015    8   HUMBERTO COSTA  Locomoção, hospedagem e alimentação   \n",
       "276609  2020   10    JOSÉ MARANHÃO                           Divulgação   \n",
       "244059  2018    4          ROMÁRIO                            Passagens   \n",
       "65015   2012   12   ÂNGELA PORTELA  Locomoção, hospedagem e alimentação   \n",
       "64196   2012    6       ANA AMÉLIA  Locomoção, hospedagem e alimentação   \n",
       "\n",
       "                  CNPJ_CPF                                         FORNECEDOR  \\\n",
       "175836  16.194.581/0001-80                              Posto São Carlos Ltda   \n",
       "281332  23.928.782/0002-00              GAMA HOTELARIA E EMPREENDIMENTOS LTDA   \n",
       "111419  02.012.862/0001-60                                  TAM LINHAS AEREAS   \n",
       "255703  32.086.320/0001-00                         Restaurante Same Same Ltda   \n",
       "296947  22.138.345/0002-20  Vale do Pitinga Comercio de Derivados de Petró...   \n",
       "153661  05.786.539/0001-31                   JF Combustiveis e Derivados Ltda   \n",
       "276609  30.178.949/0001-47                      EXTRA MARKETING POLITICO LTDA   \n",
       "244059  16.978.175/0001-08                    Adria Viagens e Turismo LTDA ME   \n",
       "65015   04.042.311/0001-74                          AUTO POSTO TRIANGULO LTDA   \n",
       "64196   13.459.455/0002-00           Com. de Comb. Voluntários da Pátria Ltda   \n",
       "\n",
       "              DATA                                       DETALHAMENTO  \\\n",
       "175836  30/10/2016  Referente a despesa com 61,771 litros de gasol...   \n",
       "281332  07/02/2020                                      Nao Informado   \n",
       "111419  06/12/2013  Nome: Magno Malta Cargo: Senador da República ...   \n",
       "255703  30/11/2019  ): Despesa com refeição e bebidas não alcoólic...   \n",
       "296947  20/05/2021                                      Nao Informado   \n",
       "153661  28/08/2015  Aquisição de combustível para veículos utiliza...   \n",
       "276609  13/10/2020                                      Nao Informado   \n",
       "244059  06/04/2018  Companhia Aérea: AVIANCA, Localizador: WNYIIL....   \n",
       "65015   26/12/2012                                      Nao Informado   \n",
       "64196   11/06/2012                                      Nao Informado   \n",
       "\n",
       "        VALOR_REEMBOLSADO  \n",
       "175836             226.02  \n",
       "281332             597.00  \n",
       "111419             684.65  \n",
       "255703             120.00  \n",
       "296947             100.00  \n",
       "153661              50.00  \n",
       "276609            3000.00  \n",
       "244059             530.95  \n",
       "65015             4216.46  \n",
       "64196               50.00  "
      ]
     },
     "execution_count": 24,
     "metadata": {},
     "output_type": "execute_result"
    }
   ],
   "source": [
    "ceaps_total.sample(10)"
   ]
  },
  {
   "cell_type": "markdown",
   "id": "21029cc4-5e95-48b2-a75a-4420689b0536",
   "metadata": {},
   "source": [
    "Análise descritiva"
   ]
  },
  {
   "cell_type": "code",
   "execution_count": 25,
   "id": "ee9a1e0a-0918-4383-9977-24c9bc8a4f96",
   "metadata": {
    "tags": []
   },
   "outputs": [],
   "source": [
    "#Importando biblioteca\n",
    "import plotly.express as px"
   ]
  },
  {
   "cell_type": "markdown",
   "id": "f8328e83-d34c-4bdf-afbf-8fb02f94bc2e",
   "metadata": {
    "tags": []
   },
   "source": [
    "Valor total de reembolsos CEAPS pagos no período de 2008 a 2022?"
   ]
  },
  {
   "cell_type": "code",
   "execution_count": 26,
   "id": "270ba142-4cbe-458e-9d54-9babd63c8bf4",
   "metadata": {
    "tags": []
   },
   "outputs": [
    {
     "data": {
      "application/vnd.plotly.v1+json": {
       "config": {
        "plotlyServerURL": "https://plot.ly"
       },
       "data": [
        {
         "alignmentgroup": "True",
         "hovertemplate": "Ano=%{x}<br>Valor Total Reembolsado (R$)=%{text}<extra></extra>",
         "legendgroup": "",
         "marker": {
          "color": "blue",
          "pattern": {
           "shape": ""
          }
         },
         "name": "",
         "offsetgroup": "",
         "opacity": 0.75,
         "orientation": "v",
         "showlegend": false,
         "text": [
          11575947.4,
          11731886.26,
          10760010.57,
          19004502.48,
          23354742.37,
          24658952.86,
          22519394.12,
          24863266.59,
          25301959.82,
          26673327.06,
          25604701.33,
          25248242.4,
          20414923.6,
          25020323.84,
          27293128.6
         ],
         "textposition": "inside",
         "texttemplate": "%{text:.2s}",
         "type": "bar",
         "x": [
          2008,
          2009,
          2010,
          2011,
          2012,
          2013,
          2014,
          2015,
          2016,
          2017,
          2018,
          2019,
          2020,
          2021,
          2022
         ],
         "xaxis": "x",
         "y": [
          11575947.4,
          11731886.26,
          10760010.57,
          19004502.48,
          23354742.37,
          24658952.86,
          22519394.12,
          24863266.59,
          25301959.82,
          26673327.06,
          25604701.33,
          25248242.4,
          20414923.6,
          25020323.84,
          27293128.6
         ],
         "yaxis": "y"
        }
       ],
       "layout": {
        "barmode": "relative",
        "font": {
         "size": 12
        },
        "legend": {
         "tracegroupgap": 0
        },
        "margin": {
         "b": 60,
         "l": 20,
         "r": 20,
         "t": 60
        },
        "paper_bgcolor": "rgba(0, 0, 0, 0)",
        "plot_bgcolor": "rgba(0, 0, 0, 0)",
        "showlegend": false,
        "template": {
         "data": {
          "bar": [
           {
            "error_x": {
             "color": "#2a3f5f"
            },
            "error_y": {
             "color": "#2a3f5f"
            },
            "marker": {
             "line": {
              "color": "white",
              "width": 0.5
             },
             "pattern": {
              "fillmode": "overlay",
              "size": 10,
              "solidity": 0.2
             }
            },
            "type": "bar"
           }
          ],
          "barpolar": [
           {
            "marker": {
             "line": {
              "color": "white",
              "width": 0.5
             },
             "pattern": {
              "fillmode": "overlay",
              "size": 10,
              "solidity": 0.2
             }
            },
            "type": "barpolar"
           }
          ],
          "carpet": [
           {
            "aaxis": {
             "endlinecolor": "#2a3f5f",
             "gridcolor": "#C8D4E3",
             "linecolor": "#C8D4E3",
             "minorgridcolor": "#C8D4E3",
             "startlinecolor": "#2a3f5f"
            },
            "baxis": {
             "endlinecolor": "#2a3f5f",
             "gridcolor": "#C8D4E3",
             "linecolor": "#C8D4E3",
             "minorgridcolor": "#C8D4E3",
             "startlinecolor": "#2a3f5f"
            },
            "type": "carpet"
           }
          ],
          "choropleth": [
           {
            "colorbar": {
             "outlinewidth": 0,
             "ticks": ""
            },
            "type": "choropleth"
           }
          ],
          "contour": [
           {
            "colorbar": {
             "outlinewidth": 0,
             "ticks": ""
            },
            "colorscale": [
             [
              0,
              "#0d0887"
             ],
             [
              0.1111111111111111,
              "#46039f"
             ],
             [
              0.2222222222222222,
              "#7201a8"
             ],
             [
              0.3333333333333333,
              "#9c179e"
             ],
             [
              0.4444444444444444,
              "#bd3786"
             ],
             [
              0.5555555555555556,
              "#d8576b"
             ],
             [
              0.6666666666666666,
              "#ed7953"
             ],
             [
              0.7777777777777778,
              "#fb9f3a"
             ],
             [
              0.8888888888888888,
              "#fdca26"
             ],
             [
              1,
              "#f0f921"
             ]
            ],
            "type": "contour"
           }
          ],
          "contourcarpet": [
           {
            "colorbar": {
             "outlinewidth": 0,
             "ticks": ""
            },
            "type": "contourcarpet"
           }
          ],
          "heatmap": [
           {
            "colorbar": {
             "outlinewidth": 0,
             "ticks": ""
            },
            "colorscale": [
             [
              0,
              "#0d0887"
             ],
             [
              0.1111111111111111,
              "#46039f"
             ],
             [
              0.2222222222222222,
              "#7201a8"
             ],
             [
              0.3333333333333333,
              "#9c179e"
             ],
             [
              0.4444444444444444,
              "#bd3786"
             ],
             [
              0.5555555555555556,
              "#d8576b"
             ],
             [
              0.6666666666666666,
              "#ed7953"
             ],
             [
              0.7777777777777778,
              "#fb9f3a"
             ],
             [
              0.8888888888888888,
              "#fdca26"
             ],
             [
              1,
              "#f0f921"
             ]
            ],
            "type": "heatmap"
           }
          ],
          "heatmapgl": [
           {
            "colorbar": {
             "outlinewidth": 0,
             "ticks": ""
            },
            "colorscale": [
             [
              0,
              "#0d0887"
             ],
             [
              0.1111111111111111,
              "#46039f"
             ],
             [
              0.2222222222222222,
              "#7201a8"
             ],
             [
              0.3333333333333333,
              "#9c179e"
             ],
             [
              0.4444444444444444,
              "#bd3786"
             ],
             [
              0.5555555555555556,
              "#d8576b"
             ],
             [
              0.6666666666666666,
              "#ed7953"
             ],
             [
              0.7777777777777778,
              "#fb9f3a"
             ],
             [
              0.8888888888888888,
              "#fdca26"
             ],
             [
              1,
              "#f0f921"
             ]
            ],
            "type": "heatmapgl"
           }
          ],
          "histogram": [
           {
            "marker": {
             "pattern": {
              "fillmode": "overlay",
              "size": 10,
              "solidity": 0.2
             }
            },
            "type": "histogram"
           }
          ],
          "histogram2d": [
           {
            "colorbar": {
             "outlinewidth": 0,
             "ticks": ""
            },
            "colorscale": [
             [
              0,
              "#0d0887"
             ],
             [
              0.1111111111111111,
              "#46039f"
             ],
             [
              0.2222222222222222,
              "#7201a8"
             ],
             [
              0.3333333333333333,
              "#9c179e"
             ],
             [
              0.4444444444444444,
              "#bd3786"
             ],
             [
              0.5555555555555556,
              "#d8576b"
             ],
             [
              0.6666666666666666,
              "#ed7953"
             ],
             [
              0.7777777777777778,
              "#fb9f3a"
             ],
             [
              0.8888888888888888,
              "#fdca26"
             ],
             [
              1,
              "#f0f921"
             ]
            ],
            "type": "histogram2d"
           }
          ],
          "histogram2dcontour": [
           {
            "colorbar": {
             "outlinewidth": 0,
             "ticks": ""
            },
            "colorscale": [
             [
              0,
              "#0d0887"
             ],
             [
              0.1111111111111111,
              "#46039f"
             ],
             [
              0.2222222222222222,
              "#7201a8"
             ],
             [
              0.3333333333333333,
              "#9c179e"
             ],
             [
              0.4444444444444444,
              "#bd3786"
             ],
             [
              0.5555555555555556,
              "#d8576b"
             ],
             [
              0.6666666666666666,
              "#ed7953"
             ],
             [
              0.7777777777777778,
              "#fb9f3a"
             ],
             [
              0.8888888888888888,
              "#fdca26"
             ],
             [
              1,
              "#f0f921"
             ]
            ],
            "type": "histogram2dcontour"
           }
          ],
          "mesh3d": [
           {
            "colorbar": {
             "outlinewidth": 0,
             "ticks": ""
            },
            "type": "mesh3d"
           }
          ],
          "parcoords": [
           {
            "line": {
             "colorbar": {
              "outlinewidth": 0,
              "ticks": ""
             }
            },
            "type": "parcoords"
           }
          ],
          "pie": [
           {
            "automargin": true,
            "type": "pie"
           }
          ],
          "scatter": [
           {
            "fillpattern": {
             "fillmode": "overlay",
             "size": 10,
             "solidity": 0.2
            },
            "type": "scatter"
           }
          ],
          "scatter3d": [
           {
            "line": {
             "colorbar": {
              "outlinewidth": 0,
              "ticks": ""
             }
            },
            "marker": {
             "colorbar": {
              "outlinewidth": 0,
              "ticks": ""
             }
            },
            "type": "scatter3d"
           }
          ],
          "scattercarpet": [
           {
            "marker": {
             "colorbar": {
              "outlinewidth": 0,
              "ticks": ""
             }
            },
            "type": "scattercarpet"
           }
          ],
          "scattergeo": [
           {
            "marker": {
             "colorbar": {
              "outlinewidth": 0,
              "ticks": ""
             }
            },
            "type": "scattergeo"
           }
          ],
          "scattergl": [
           {
            "marker": {
             "colorbar": {
              "outlinewidth": 0,
              "ticks": ""
             }
            },
            "type": "scattergl"
           }
          ],
          "scattermapbox": [
           {
            "marker": {
             "colorbar": {
              "outlinewidth": 0,
              "ticks": ""
             }
            },
            "type": "scattermapbox"
           }
          ],
          "scatterpolar": [
           {
            "marker": {
             "colorbar": {
              "outlinewidth": 0,
              "ticks": ""
             }
            },
            "type": "scatterpolar"
           }
          ],
          "scatterpolargl": [
           {
            "marker": {
             "colorbar": {
              "outlinewidth": 0,
              "ticks": ""
             }
            },
            "type": "scatterpolargl"
           }
          ],
          "scatterternary": [
           {
            "marker": {
             "colorbar": {
              "outlinewidth": 0,
              "ticks": ""
             }
            },
            "type": "scatterternary"
           }
          ],
          "surface": [
           {
            "colorbar": {
             "outlinewidth": 0,
             "ticks": ""
            },
            "colorscale": [
             [
              0,
              "#0d0887"
             ],
             [
              0.1111111111111111,
              "#46039f"
             ],
             [
              0.2222222222222222,
              "#7201a8"
             ],
             [
              0.3333333333333333,
              "#9c179e"
             ],
             [
              0.4444444444444444,
              "#bd3786"
             ],
             [
              0.5555555555555556,
              "#d8576b"
             ],
             [
              0.6666666666666666,
              "#ed7953"
             ],
             [
              0.7777777777777778,
              "#fb9f3a"
             ],
             [
              0.8888888888888888,
              "#fdca26"
             ],
             [
              1,
              "#f0f921"
             ]
            ],
            "type": "surface"
           }
          ],
          "table": [
           {
            "cells": {
             "fill": {
              "color": "#EBF0F8"
             },
             "line": {
              "color": "white"
             }
            },
            "header": {
             "fill": {
              "color": "#C8D4E3"
             },
             "line": {
              "color": "white"
             }
            },
            "type": "table"
           }
          ]
         },
         "layout": {
          "annotationdefaults": {
           "arrowcolor": "#2a3f5f",
           "arrowhead": 0,
           "arrowwidth": 1
          },
          "autotypenumbers": "strict",
          "coloraxis": {
           "colorbar": {
            "outlinewidth": 0,
            "ticks": ""
           }
          },
          "colorscale": {
           "diverging": [
            [
             0,
             "#8e0152"
            ],
            [
             0.1,
             "#c51b7d"
            ],
            [
             0.2,
             "#de77ae"
            ],
            [
             0.3,
             "#f1b6da"
            ],
            [
             0.4,
             "#fde0ef"
            ],
            [
             0.5,
             "#f7f7f7"
            ],
            [
             0.6,
             "#e6f5d0"
            ],
            [
             0.7,
             "#b8e186"
            ],
            [
             0.8,
             "#7fbc41"
            ],
            [
             0.9,
             "#4d9221"
            ],
            [
             1,
             "#276419"
            ]
           ],
           "sequential": [
            [
             0,
             "#0d0887"
            ],
            [
             0.1111111111111111,
             "#46039f"
            ],
            [
             0.2222222222222222,
             "#7201a8"
            ],
            [
             0.3333333333333333,
             "#9c179e"
            ],
            [
             0.4444444444444444,
             "#bd3786"
            ],
            [
             0.5555555555555556,
             "#d8576b"
            ],
            [
             0.6666666666666666,
             "#ed7953"
            ],
            [
             0.7777777777777778,
             "#fb9f3a"
            ],
            [
             0.8888888888888888,
             "#fdca26"
            ],
            [
             1,
             "#f0f921"
            ]
           ],
           "sequentialminus": [
            [
             0,
             "#0d0887"
            ],
            [
             0.1111111111111111,
             "#46039f"
            ],
            [
             0.2222222222222222,
             "#7201a8"
            ],
            [
             0.3333333333333333,
             "#9c179e"
            ],
            [
             0.4444444444444444,
             "#bd3786"
            ],
            [
             0.5555555555555556,
             "#d8576b"
            ],
            [
             0.6666666666666666,
             "#ed7953"
            ],
            [
             0.7777777777777778,
             "#fb9f3a"
            ],
            [
             0.8888888888888888,
             "#fdca26"
            ],
            [
             1,
             "#f0f921"
            ]
           ]
          },
          "colorway": [
           "#636efa",
           "#EF553B",
           "#00cc96",
           "#ab63fa",
           "#FFA15A",
           "#19d3f3",
           "#FF6692",
           "#B6E880",
           "#FF97FF",
           "#FECB52"
          ],
          "font": {
           "color": "#2a3f5f"
          },
          "geo": {
           "bgcolor": "white",
           "lakecolor": "white",
           "landcolor": "white",
           "showlakes": true,
           "showland": true,
           "subunitcolor": "#C8D4E3"
          },
          "hoverlabel": {
           "align": "left"
          },
          "hovermode": "closest",
          "mapbox": {
           "style": "light"
          },
          "paper_bgcolor": "white",
          "plot_bgcolor": "white",
          "polar": {
           "angularaxis": {
            "gridcolor": "#EBF0F8",
            "linecolor": "#EBF0F8",
            "ticks": ""
           },
           "bgcolor": "white",
           "radialaxis": {
            "gridcolor": "#EBF0F8",
            "linecolor": "#EBF0F8",
            "ticks": ""
           }
          },
          "scene": {
           "xaxis": {
            "backgroundcolor": "white",
            "gridcolor": "#DFE8F3",
            "gridwidth": 2,
            "linecolor": "#EBF0F8",
            "showbackground": true,
            "ticks": "",
            "zerolinecolor": "#EBF0F8"
           },
           "yaxis": {
            "backgroundcolor": "white",
            "gridcolor": "#DFE8F3",
            "gridwidth": 2,
            "linecolor": "#EBF0F8",
            "showbackground": true,
            "ticks": "",
            "zerolinecolor": "#EBF0F8"
           },
           "zaxis": {
            "backgroundcolor": "white",
            "gridcolor": "#DFE8F3",
            "gridwidth": 2,
            "linecolor": "#EBF0F8",
            "showbackground": true,
            "ticks": "",
            "zerolinecolor": "#EBF0F8"
           }
          },
          "shapedefaults": {
           "line": {
            "color": "#2a3f5f"
           }
          },
          "ternary": {
           "aaxis": {
            "gridcolor": "#DFE8F3",
            "linecolor": "#A2B1C6",
            "ticks": ""
           },
           "baxis": {
            "gridcolor": "#DFE8F3",
            "linecolor": "#A2B1C6",
            "ticks": ""
           },
           "bgcolor": "white",
           "caxis": {
            "gridcolor": "#DFE8F3",
            "linecolor": "#A2B1C6",
            "ticks": ""
           }
          },
          "title": {
           "x": 0.05
          },
          "xaxis": {
           "automargin": true,
           "gridcolor": "#EBF0F8",
           "linecolor": "#EBF0F8",
           "ticks": "",
           "title": {
            "standoff": 15
           },
           "zerolinecolor": "#EBF0F8",
           "zerolinewidth": 2
          },
          "yaxis": {
           "automargin": true,
           "gridcolor": "#EBF0F8",
           "linecolor": "#EBF0F8",
           "ticks": "",
           "title": {
            "standoff": 15
           },
           "zerolinecolor": "#EBF0F8",
           "zerolinewidth": 2
          }
         }
        },
        "title": {
         "text": "Valor Total dos Reembolsos por Ano (2008-2022)"
        },
        "xaxis": {
         "anchor": "y",
         "domain": [
          0,
          1
         ],
         "dtick": 1,
         "tick0": 2008,
         "tickmode": "linear",
         "title": {
          "text": "Ano"
         }
        },
        "yaxis": {
         "anchor": "x",
         "domain": [
          0,
          1
         ],
         "tickformat": "R$,",
         "title": {
          "text": "Valor Total Reembolsado (R$)"
         }
        }
       }
      }
     },
     "metadata": {},
     "output_type": "display_data"
    }
   ],
   "source": [
    "# Agrupando e somando os valores reembolsados por ano\n",
    "valor_ano = ceaps_total.groupby('ANO')['VALOR_REEMBOLSADO'].sum().reset_index()\n",
    "\n",
    "# Criando o gráfico de barras com Plotly Express\n",
    "fig = px.bar(\n",
    "    valor_ano,\n",
    "    x='ANO',\n",
    "    y='VALOR_REEMBOLSADO',\n",
    "    title='Valor Total dos Reembolsos por Ano (2008-2022)',\n",
    "    labels={'VALOR_REEMBOLSADO': 'Valor Total Reembolsado (R$)', 'ANO': 'Ano'},\n",
    "    template='plotly_white',\n",
    "    text='VALOR_REEMBOLSADO'  # Adicionar os valores das barras\n",
    ")\n",
    "\n",
    "# Ajustando o layout do gráfico para torná-lo mais atraente\n",
    "fig.update_traces(\n",
    "    texttemplate='%{text:.2s}',  # Formatar os valores para notação científica curta\n",
    "    textposition='inside',  # Colocar os textos fora das barras\n",
    "    marker_color='blue',  # Cor das barras\n",
    "    opacity=0.75  # Transparência das barras\n",
    ")\n",
    "\n",
    "fig.update_layout(\n",
    "    xaxis_title='Ano',\n",
    "    yaxis_title='Valor Total Reembolsado (R$)',\n",
    "    yaxis_tickformat='R$,',  # Formatando o eixo y para valores monetários\n",
    "    xaxis=dict(\n",
    "        tickmode='linear',  # Mostrando todos os anos\n",
    "        tick0=2008,  # Começando em 2008\n",
    "        dtick=1  # Intervalo de 1 ano\n",
    "    ),\n",
    "    margin=dict(l=20, r=20, t=60, b=60),  # Ajustar as margens\n",
    "    font=dict(\n",
    "        size=12  # Tamanho da fonte\n",
    "    ),\n",
    "    plot_bgcolor='rgba(0, 0, 0, 0)',  # Fundo transparente\n",
    "    paper_bgcolor='rgba(0, 0, 0, 0)',  # Fundo do papel transparente\n",
    "    showlegend=False  # Ocultar a legenda\n",
    ")\n"
   ]
  },
  {
   "cell_type": "markdown",
   "id": "adbc2da0-4e8f-448d-ad13-0823d755a920",
   "metadata": {},
   "source": [
    "10 Senadores que mais receberam reembolso CEAPS entre 2008 a 2022?"
   ]
  },
  {
   "cell_type": "code",
   "execution_count": 27,
   "id": "f0633e6e-46b8-4a17-9c74-df421f1768c1",
   "metadata": {
    "tags": []
   },
   "outputs": [
    {
     "data": {
      "application/vnd.plotly.v1+json": {
       "config": {
        "plotlyServerURL": "https://plot.ly"
       },
       "data": [
        {
         "alignmentgroup": "True",
         "hovertemplate": "Valor Total Reembolsado (R$)=%{text}<br>Senador=%{y}<extra></extra>",
         "legendgroup": "",
         "marker": {
          "color": "blue",
          "pattern": {
           "shape": ""
          }
         },
         "name": "",
         "offsetgroup": "",
         "opacity": 0.75,
         "orientation": "h",
         "showlegend": false,
         "text": [
          3839486.45,
          3870627.57,
          3981268.98,
          4522277.59,
          4547595.4,
          4571437.31,
          4579717.29,
          4663461.97,
          5085974.12,
          5222049.49
         ],
         "textposition": "inside",
         "texttemplate": "%{text:.2s}",
         "type": "bar",
         "x": [
          3839486.45,
          3870627.57,
          3981268.98,
          4522277.59,
          4547595.4,
          4571437.31,
          4579717.29,
          4663461.97,
          5085974.12,
          5222049.49
         ],
         "xaxis": "x",
         "y": [
          "ROMERO JUCÁ",
          "VANESSA GRAZZIOTIN",
          "EDUARDO BRAGA",
          "ACIR GURGACZ",
          "PAULO PAIM",
          "RANDOLFE RODRIGUES",
          "CIRO NOGUEIRA",
          "HUMBERTO COSTA",
          "SÉRGIO PETECÃO",
          "FERNANDO COLLOR"
         ],
         "yaxis": "y"
        }
       ],
       "layout": {
        "barmode": "relative",
        "font": {
         "size": 12
        },
        "legend": {
         "tracegroupgap": 0
        },
        "margin": {
         "b": 60,
         "l": 20,
         "r": 20,
         "t": 60
        },
        "paper_bgcolor": "rgba(0, 0, 0, 0)",
        "plot_bgcolor": "rgba(0, 0, 0, 0)",
        "showlegend": false,
        "template": {
         "data": {
          "bar": [
           {
            "error_x": {
             "color": "#2a3f5f"
            },
            "error_y": {
             "color": "#2a3f5f"
            },
            "marker": {
             "line": {
              "color": "white",
              "width": 0.5
             },
             "pattern": {
              "fillmode": "overlay",
              "size": 10,
              "solidity": 0.2
             }
            },
            "type": "bar"
           }
          ],
          "barpolar": [
           {
            "marker": {
             "line": {
              "color": "white",
              "width": 0.5
             },
             "pattern": {
              "fillmode": "overlay",
              "size": 10,
              "solidity": 0.2
             }
            },
            "type": "barpolar"
           }
          ],
          "carpet": [
           {
            "aaxis": {
             "endlinecolor": "#2a3f5f",
             "gridcolor": "#C8D4E3",
             "linecolor": "#C8D4E3",
             "minorgridcolor": "#C8D4E3",
             "startlinecolor": "#2a3f5f"
            },
            "baxis": {
             "endlinecolor": "#2a3f5f",
             "gridcolor": "#C8D4E3",
             "linecolor": "#C8D4E3",
             "minorgridcolor": "#C8D4E3",
             "startlinecolor": "#2a3f5f"
            },
            "type": "carpet"
           }
          ],
          "choropleth": [
           {
            "colorbar": {
             "outlinewidth": 0,
             "ticks": ""
            },
            "type": "choropleth"
           }
          ],
          "contour": [
           {
            "colorbar": {
             "outlinewidth": 0,
             "ticks": ""
            },
            "colorscale": [
             [
              0,
              "#0d0887"
             ],
             [
              0.1111111111111111,
              "#46039f"
             ],
             [
              0.2222222222222222,
              "#7201a8"
             ],
             [
              0.3333333333333333,
              "#9c179e"
             ],
             [
              0.4444444444444444,
              "#bd3786"
             ],
             [
              0.5555555555555556,
              "#d8576b"
             ],
             [
              0.6666666666666666,
              "#ed7953"
             ],
             [
              0.7777777777777778,
              "#fb9f3a"
             ],
             [
              0.8888888888888888,
              "#fdca26"
             ],
             [
              1,
              "#f0f921"
             ]
            ],
            "type": "contour"
           }
          ],
          "contourcarpet": [
           {
            "colorbar": {
             "outlinewidth": 0,
             "ticks": ""
            },
            "type": "contourcarpet"
           }
          ],
          "heatmap": [
           {
            "colorbar": {
             "outlinewidth": 0,
             "ticks": ""
            },
            "colorscale": [
             [
              0,
              "#0d0887"
             ],
             [
              0.1111111111111111,
              "#46039f"
             ],
             [
              0.2222222222222222,
              "#7201a8"
             ],
             [
              0.3333333333333333,
              "#9c179e"
             ],
             [
              0.4444444444444444,
              "#bd3786"
             ],
             [
              0.5555555555555556,
              "#d8576b"
             ],
             [
              0.6666666666666666,
              "#ed7953"
             ],
             [
              0.7777777777777778,
              "#fb9f3a"
             ],
             [
              0.8888888888888888,
              "#fdca26"
             ],
             [
              1,
              "#f0f921"
             ]
            ],
            "type": "heatmap"
           }
          ],
          "heatmapgl": [
           {
            "colorbar": {
             "outlinewidth": 0,
             "ticks": ""
            },
            "colorscale": [
             [
              0,
              "#0d0887"
             ],
             [
              0.1111111111111111,
              "#46039f"
             ],
             [
              0.2222222222222222,
              "#7201a8"
             ],
             [
              0.3333333333333333,
              "#9c179e"
             ],
             [
              0.4444444444444444,
              "#bd3786"
             ],
             [
              0.5555555555555556,
              "#d8576b"
             ],
             [
              0.6666666666666666,
              "#ed7953"
             ],
             [
              0.7777777777777778,
              "#fb9f3a"
             ],
             [
              0.8888888888888888,
              "#fdca26"
             ],
             [
              1,
              "#f0f921"
             ]
            ],
            "type": "heatmapgl"
           }
          ],
          "histogram": [
           {
            "marker": {
             "pattern": {
              "fillmode": "overlay",
              "size": 10,
              "solidity": 0.2
             }
            },
            "type": "histogram"
           }
          ],
          "histogram2d": [
           {
            "colorbar": {
             "outlinewidth": 0,
             "ticks": ""
            },
            "colorscale": [
             [
              0,
              "#0d0887"
             ],
             [
              0.1111111111111111,
              "#46039f"
             ],
             [
              0.2222222222222222,
              "#7201a8"
             ],
             [
              0.3333333333333333,
              "#9c179e"
             ],
             [
              0.4444444444444444,
              "#bd3786"
             ],
             [
              0.5555555555555556,
              "#d8576b"
             ],
             [
              0.6666666666666666,
              "#ed7953"
             ],
             [
              0.7777777777777778,
              "#fb9f3a"
             ],
             [
              0.8888888888888888,
              "#fdca26"
             ],
             [
              1,
              "#f0f921"
             ]
            ],
            "type": "histogram2d"
           }
          ],
          "histogram2dcontour": [
           {
            "colorbar": {
             "outlinewidth": 0,
             "ticks": ""
            },
            "colorscale": [
             [
              0,
              "#0d0887"
             ],
             [
              0.1111111111111111,
              "#46039f"
             ],
             [
              0.2222222222222222,
              "#7201a8"
             ],
             [
              0.3333333333333333,
              "#9c179e"
             ],
             [
              0.4444444444444444,
              "#bd3786"
             ],
             [
              0.5555555555555556,
              "#d8576b"
             ],
             [
              0.6666666666666666,
              "#ed7953"
             ],
             [
              0.7777777777777778,
              "#fb9f3a"
             ],
             [
              0.8888888888888888,
              "#fdca26"
             ],
             [
              1,
              "#f0f921"
             ]
            ],
            "type": "histogram2dcontour"
           }
          ],
          "mesh3d": [
           {
            "colorbar": {
             "outlinewidth": 0,
             "ticks": ""
            },
            "type": "mesh3d"
           }
          ],
          "parcoords": [
           {
            "line": {
             "colorbar": {
              "outlinewidth": 0,
              "ticks": ""
             }
            },
            "type": "parcoords"
           }
          ],
          "pie": [
           {
            "automargin": true,
            "type": "pie"
           }
          ],
          "scatter": [
           {
            "fillpattern": {
             "fillmode": "overlay",
             "size": 10,
             "solidity": 0.2
            },
            "type": "scatter"
           }
          ],
          "scatter3d": [
           {
            "line": {
             "colorbar": {
              "outlinewidth": 0,
              "ticks": ""
             }
            },
            "marker": {
             "colorbar": {
              "outlinewidth": 0,
              "ticks": ""
             }
            },
            "type": "scatter3d"
           }
          ],
          "scattercarpet": [
           {
            "marker": {
             "colorbar": {
              "outlinewidth": 0,
              "ticks": ""
             }
            },
            "type": "scattercarpet"
           }
          ],
          "scattergeo": [
           {
            "marker": {
             "colorbar": {
              "outlinewidth": 0,
              "ticks": ""
             }
            },
            "type": "scattergeo"
           }
          ],
          "scattergl": [
           {
            "marker": {
             "colorbar": {
              "outlinewidth": 0,
              "ticks": ""
             }
            },
            "type": "scattergl"
           }
          ],
          "scattermapbox": [
           {
            "marker": {
             "colorbar": {
              "outlinewidth": 0,
              "ticks": ""
             }
            },
            "type": "scattermapbox"
           }
          ],
          "scatterpolar": [
           {
            "marker": {
             "colorbar": {
              "outlinewidth": 0,
              "ticks": ""
             }
            },
            "type": "scatterpolar"
           }
          ],
          "scatterpolargl": [
           {
            "marker": {
             "colorbar": {
              "outlinewidth": 0,
              "ticks": ""
             }
            },
            "type": "scatterpolargl"
           }
          ],
          "scatterternary": [
           {
            "marker": {
             "colorbar": {
              "outlinewidth": 0,
              "ticks": ""
             }
            },
            "type": "scatterternary"
           }
          ],
          "surface": [
           {
            "colorbar": {
             "outlinewidth": 0,
             "ticks": ""
            },
            "colorscale": [
             [
              0,
              "#0d0887"
             ],
             [
              0.1111111111111111,
              "#46039f"
             ],
             [
              0.2222222222222222,
              "#7201a8"
             ],
             [
              0.3333333333333333,
              "#9c179e"
             ],
             [
              0.4444444444444444,
              "#bd3786"
             ],
             [
              0.5555555555555556,
              "#d8576b"
             ],
             [
              0.6666666666666666,
              "#ed7953"
             ],
             [
              0.7777777777777778,
              "#fb9f3a"
             ],
             [
              0.8888888888888888,
              "#fdca26"
             ],
             [
              1,
              "#f0f921"
             ]
            ],
            "type": "surface"
           }
          ],
          "table": [
           {
            "cells": {
             "fill": {
              "color": "#EBF0F8"
             },
             "line": {
              "color": "white"
             }
            },
            "header": {
             "fill": {
              "color": "#C8D4E3"
             },
             "line": {
              "color": "white"
             }
            },
            "type": "table"
           }
          ]
         },
         "layout": {
          "annotationdefaults": {
           "arrowcolor": "#2a3f5f",
           "arrowhead": 0,
           "arrowwidth": 1
          },
          "autotypenumbers": "strict",
          "coloraxis": {
           "colorbar": {
            "outlinewidth": 0,
            "ticks": ""
           }
          },
          "colorscale": {
           "diverging": [
            [
             0,
             "#8e0152"
            ],
            [
             0.1,
             "#c51b7d"
            ],
            [
             0.2,
             "#de77ae"
            ],
            [
             0.3,
             "#f1b6da"
            ],
            [
             0.4,
             "#fde0ef"
            ],
            [
             0.5,
             "#f7f7f7"
            ],
            [
             0.6,
             "#e6f5d0"
            ],
            [
             0.7,
             "#b8e186"
            ],
            [
             0.8,
             "#7fbc41"
            ],
            [
             0.9,
             "#4d9221"
            ],
            [
             1,
             "#276419"
            ]
           ],
           "sequential": [
            [
             0,
             "#0d0887"
            ],
            [
             0.1111111111111111,
             "#46039f"
            ],
            [
             0.2222222222222222,
             "#7201a8"
            ],
            [
             0.3333333333333333,
             "#9c179e"
            ],
            [
             0.4444444444444444,
             "#bd3786"
            ],
            [
             0.5555555555555556,
             "#d8576b"
            ],
            [
             0.6666666666666666,
             "#ed7953"
            ],
            [
             0.7777777777777778,
             "#fb9f3a"
            ],
            [
             0.8888888888888888,
             "#fdca26"
            ],
            [
             1,
             "#f0f921"
            ]
           ],
           "sequentialminus": [
            [
             0,
             "#0d0887"
            ],
            [
             0.1111111111111111,
             "#46039f"
            ],
            [
             0.2222222222222222,
             "#7201a8"
            ],
            [
             0.3333333333333333,
             "#9c179e"
            ],
            [
             0.4444444444444444,
             "#bd3786"
            ],
            [
             0.5555555555555556,
             "#d8576b"
            ],
            [
             0.6666666666666666,
             "#ed7953"
            ],
            [
             0.7777777777777778,
             "#fb9f3a"
            ],
            [
             0.8888888888888888,
             "#fdca26"
            ],
            [
             1,
             "#f0f921"
            ]
           ]
          },
          "colorway": [
           "#636efa",
           "#EF553B",
           "#00cc96",
           "#ab63fa",
           "#FFA15A",
           "#19d3f3",
           "#FF6692",
           "#B6E880",
           "#FF97FF",
           "#FECB52"
          ],
          "font": {
           "color": "#2a3f5f"
          },
          "geo": {
           "bgcolor": "white",
           "lakecolor": "white",
           "landcolor": "white",
           "showlakes": true,
           "showland": true,
           "subunitcolor": "#C8D4E3"
          },
          "hoverlabel": {
           "align": "left"
          },
          "hovermode": "closest",
          "mapbox": {
           "style": "light"
          },
          "paper_bgcolor": "white",
          "plot_bgcolor": "white",
          "polar": {
           "angularaxis": {
            "gridcolor": "#EBF0F8",
            "linecolor": "#EBF0F8",
            "ticks": ""
           },
           "bgcolor": "white",
           "radialaxis": {
            "gridcolor": "#EBF0F8",
            "linecolor": "#EBF0F8",
            "ticks": ""
           }
          },
          "scene": {
           "xaxis": {
            "backgroundcolor": "white",
            "gridcolor": "#DFE8F3",
            "gridwidth": 2,
            "linecolor": "#EBF0F8",
            "showbackground": true,
            "ticks": "",
            "zerolinecolor": "#EBF0F8"
           },
           "yaxis": {
            "backgroundcolor": "white",
            "gridcolor": "#DFE8F3",
            "gridwidth": 2,
            "linecolor": "#EBF0F8",
            "showbackground": true,
            "ticks": "",
            "zerolinecolor": "#EBF0F8"
           },
           "zaxis": {
            "backgroundcolor": "white",
            "gridcolor": "#DFE8F3",
            "gridwidth": 2,
            "linecolor": "#EBF0F8",
            "showbackground": true,
            "ticks": "",
            "zerolinecolor": "#EBF0F8"
           }
          },
          "shapedefaults": {
           "line": {
            "color": "#2a3f5f"
           }
          },
          "ternary": {
           "aaxis": {
            "gridcolor": "#DFE8F3",
            "linecolor": "#A2B1C6",
            "ticks": ""
           },
           "baxis": {
            "gridcolor": "#DFE8F3",
            "linecolor": "#A2B1C6",
            "ticks": ""
           },
           "bgcolor": "white",
           "caxis": {
            "gridcolor": "#DFE8F3",
            "linecolor": "#A2B1C6",
            "ticks": ""
           }
          },
          "title": {
           "x": 0.05
          },
          "xaxis": {
           "automargin": true,
           "gridcolor": "#EBF0F8",
           "linecolor": "#EBF0F8",
           "ticks": "",
           "title": {
            "standoff": 15
           },
           "zerolinecolor": "#EBF0F8",
           "zerolinewidth": 2
          },
          "yaxis": {
           "automargin": true,
           "gridcolor": "#EBF0F8",
           "linecolor": "#EBF0F8",
           "ticks": "",
           "title": {
            "standoff": 15
           },
           "zerolinecolor": "#EBF0F8",
           "zerolinewidth": 2
          }
         }
        },
        "title": {
         "text": "Top 10 Senadores por Valor Total de Reembolsos (2008-2022)"
        },
        "xaxis": {
         "anchor": "y",
         "domain": [
          0,
          1
         ],
         "tickformat": "R$,.0f",
         "title": {
          "text": "Valor Total Reembolsado (R$)"
         }
        },
        "yaxis": {
         "anchor": "x",
         "domain": [
          0,
          1
         ],
         "tickfont": {
          "size": 12
         },
         "tickmode": "linear",
         "title": {
          "text": "Senador"
         }
        }
       }
      }
     },
     "metadata": {},
     "output_type": "display_data"
    }
   ],
   "source": [
    "# Agrupando por SENADOR e somar os VALOR_REEMBOLSADO, ordenando em ordem decrescente e selecionando os top 10\n",
    "top_senadores = ceaps_total.groupby('SENADOR')['VALOR_REEMBOLSADO'].sum().sort_values(ascending=False).head(10)\n",
    "\n",
    "# Convertendo para DataFrame para facilitar a manipulação e visualização\n",
    "top_senadores_df = top_senadores.to_frame().reset_index()\n",
    "\n",
    "# Ordenando os senadores de forma decrescente pelos valores de reembolso\n",
    "top_senadores_df = top_senadores_df.sort_values(by='VALOR_REEMBOLSADO', ascending=True)\n",
    "\n",
    "# Criando o gráfico de barras horizontal com Plotly Express\n",
    "fig = px.bar(\n",
    "    top_senadores_df,\n",
    "    x='VALOR_REEMBOLSADO',\n",
    "    y='SENADOR',\n",
    "    title='Top 10 Senadores por Valor Total de Reembolsos (2008-2022)',\n",
    "    labels={'VALOR_REEMBOLSADO': 'Valor Total Reembolsado (R$)', 'SENADOR': 'Senador'},\n",
    "    template='plotly_white',\n",
    "    text='VALOR_REEMBOLSADO',\n",
    "    orientation='h'  # Barra horizontal\n",
    ")\n",
    "\n",
    "# Ajustando o layout do gráfico\n",
    "fig.update_traces(\n",
    "    texttemplate='%{text:.2s}',  # Formatar os valores para notação científica curta\n",
    "    textposition='inside',  # Colocar os textos fora das barras\n",
    "    marker_color='blue',  # Cor das barras\n",
    "    opacity=0.75  # Transparência das barras\n",
    ")\n",
    "\n",
    "# Configurando o formato do eixo X para valores monetários\n",
    "fig.update_layout(\n",
    "    xaxis_title='Valor Total Reembolsado (R$)',\n",
    "    yaxis_title='Senador',\n",
    "    xaxis=dict(\n",
    "        tickformat='R$,.0f'  # Formato para valores monetários\n",
    "    ),\n",
    "    yaxis=dict(\n",
    "        tickmode='linear',  # Mostrar todos os senadores\n",
    "        tickfont=dict(size=12)  # Tamanho da fonte\n",
    "    ),\n",
    "    margin=dict(l=20, r=20, t=60, b=60),  # Ajustar as margens\n",
    "    font=dict(\n",
    "        size=12  # Tamanho da fonte\n",
    "    ),\n",
    "    plot_bgcolor='rgba(0, 0, 0, 0)',  # Fundo transparente\n",
    "    paper_bgcolor='rgba(0, 0, 0, 0)',  # Fundo do papel transparente\n",
    "    showlegend=False  # Ocultar a legenda\n",
    ")\n"
   ]
  },
  {
   "cell_type": "markdown",
   "id": "6e2ac65d-8172-4351-b9ac-403b84a9611c",
   "metadata": {},
   "source": [
    "10 Senadores que mais receberam reembolso em 2022?"
   ]
  },
  {
   "cell_type": "code",
   "execution_count": 28,
   "id": "b0190425-78ca-456a-9bbc-244d61c8f94e",
   "metadata": {
    "tags": []
   },
   "outputs": [
    {
     "data": {
      "application/vnd.plotly.v1+json": {
       "config": {
        "plotlyServerURL": "https://plot.ly"
       },
       "data": [
        {
         "alignmentgroup": "True",
         "hovertemplate": "Valor Total Reembolsado (R$)=%{text}<br>Senador=%{y}<extra></extra>",
         "legendgroup": "",
         "marker": {
          "color": "blue",
          "pattern": {
           "shape": ""
          }
         },
         "name": "",
         "offsetgroup": "",
         "opacity": 0.75,
         "orientation": "h",
         "showlegend": false,
         "text": [
          511319.77999999997,
          505054.54,
          494369.33,
          488693.4,
          488586.66000000003,
          487758.92,
          486958.05,
          479749.27,
          465899.61,
          465194.93
         ],
         "textposition": "inside",
         "texttemplate": "%{text:.2s}",
         "type": "bar",
         "x": [
          511319.77999999997,
          505054.54,
          494369.33,
          488693.4,
          488586.66000000003,
          487758.92,
          486958.05,
          479749.27,
          465899.61,
          465194.93
         ],
         "xaxis": "x",
         "y": [
          "LUCAS BARRETO",
          "DAVI ALCOLUMBRE",
          "OMAR AZIZ",
          "TELMÁRIO MOTA",
          "MECIAS DE JESUS",
          "RANDOLFE RODRIGUES",
          "CHICO RODRIGUES",
          "ROGÉRIO CARVALHO",
          "MAILZA GOMES",
          "ELMANO FÉRRER"
         ],
         "yaxis": "y"
        }
       ],
       "layout": {
        "barmode": "relative",
        "font": {
         "size": 12
        },
        "legend": {
         "tracegroupgap": 0
        },
        "margin": {
         "b": 60,
         "l": 20,
         "r": 20,
         "t": 60
        },
        "paper_bgcolor": "rgba(0, 0, 0, 0)",
        "plot_bgcolor": "rgba(0, 0, 0, 0)",
        "showlegend": false,
        "template": {
         "data": {
          "bar": [
           {
            "error_x": {
             "color": "#2a3f5f"
            },
            "error_y": {
             "color": "#2a3f5f"
            },
            "marker": {
             "line": {
              "color": "white",
              "width": 0.5
             },
             "pattern": {
              "fillmode": "overlay",
              "size": 10,
              "solidity": 0.2
             }
            },
            "type": "bar"
           }
          ],
          "barpolar": [
           {
            "marker": {
             "line": {
              "color": "white",
              "width": 0.5
             },
             "pattern": {
              "fillmode": "overlay",
              "size": 10,
              "solidity": 0.2
             }
            },
            "type": "barpolar"
           }
          ],
          "carpet": [
           {
            "aaxis": {
             "endlinecolor": "#2a3f5f",
             "gridcolor": "#C8D4E3",
             "linecolor": "#C8D4E3",
             "minorgridcolor": "#C8D4E3",
             "startlinecolor": "#2a3f5f"
            },
            "baxis": {
             "endlinecolor": "#2a3f5f",
             "gridcolor": "#C8D4E3",
             "linecolor": "#C8D4E3",
             "minorgridcolor": "#C8D4E3",
             "startlinecolor": "#2a3f5f"
            },
            "type": "carpet"
           }
          ],
          "choropleth": [
           {
            "colorbar": {
             "outlinewidth": 0,
             "ticks": ""
            },
            "type": "choropleth"
           }
          ],
          "contour": [
           {
            "colorbar": {
             "outlinewidth": 0,
             "ticks": ""
            },
            "colorscale": [
             [
              0,
              "#0d0887"
             ],
             [
              0.1111111111111111,
              "#46039f"
             ],
             [
              0.2222222222222222,
              "#7201a8"
             ],
             [
              0.3333333333333333,
              "#9c179e"
             ],
             [
              0.4444444444444444,
              "#bd3786"
             ],
             [
              0.5555555555555556,
              "#d8576b"
             ],
             [
              0.6666666666666666,
              "#ed7953"
             ],
             [
              0.7777777777777778,
              "#fb9f3a"
             ],
             [
              0.8888888888888888,
              "#fdca26"
             ],
             [
              1,
              "#f0f921"
             ]
            ],
            "type": "contour"
           }
          ],
          "contourcarpet": [
           {
            "colorbar": {
             "outlinewidth": 0,
             "ticks": ""
            },
            "type": "contourcarpet"
           }
          ],
          "heatmap": [
           {
            "colorbar": {
             "outlinewidth": 0,
             "ticks": ""
            },
            "colorscale": [
             [
              0,
              "#0d0887"
             ],
             [
              0.1111111111111111,
              "#46039f"
             ],
             [
              0.2222222222222222,
              "#7201a8"
             ],
             [
              0.3333333333333333,
              "#9c179e"
             ],
             [
              0.4444444444444444,
              "#bd3786"
             ],
             [
              0.5555555555555556,
              "#d8576b"
             ],
             [
              0.6666666666666666,
              "#ed7953"
             ],
             [
              0.7777777777777778,
              "#fb9f3a"
             ],
             [
              0.8888888888888888,
              "#fdca26"
             ],
             [
              1,
              "#f0f921"
             ]
            ],
            "type": "heatmap"
           }
          ],
          "heatmapgl": [
           {
            "colorbar": {
             "outlinewidth": 0,
             "ticks": ""
            },
            "colorscale": [
             [
              0,
              "#0d0887"
             ],
             [
              0.1111111111111111,
              "#46039f"
             ],
             [
              0.2222222222222222,
              "#7201a8"
             ],
             [
              0.3333333333333333,
              "#9c179e"
             ],
             [
              0.4444444444444444,
              "#bd3786"
             ],
             [
              0.5555555555555556,
              "#d8576b"
             ],
             [
              0.6666666666666666,
              "#ed7953"
             ],
             [
              0.7777777777777778,
              "#fb9f3a"
             ],
             [
              0.8888888888888888,
              "#fdca26"
             ],
             [
              1,
              "#f0f921"
             ]
            ],
            "type": "heatmapgl"
           }
          ],
          "histogram": [
           {
            "marker": {
             "pattern": {
              "fillmode": "overlay",
              "size": 10,
              "solidity": 0.2
             }
            },
            "type": "histogram"
           }
          ],
          "histogram2d": [
           {
            "colorbar": {
             "outlinewidth": 0,
             "ticks": ""
            },
            "colorscale": [
             [
              0,
              "#0d0887"
             ],
             [
              0.1111111111111111,
              "#46039f"
             ],
             [
              0.2222222222222222,
              "#7201a8"
             ],
             [
              0.3333333333333333,
              "#9c179e"
             ],
             [
              0.4444444444444444,
              "#bd3786"
             ],
             [
              0.5555555555555556,
              "#d8576b"
             ],
             [
              0.6666666666666666,
              "#ed7953"
             ],
             [
              0.7777777777777778,
              "#fb9f3a"
             ],
             [
              0.8888888888888888,
              "#fdca26"
             ],
             [
              1,
              "#f0f921"
             ]
            ],
            "type": "histogram2d"
           }
          ],
          "histogram2dcontour": [
           {
            "colorbar": {
             "outlinewidth": 0,
             "ticks": ""
            },
            "colorscale": [
             [
              0,
              "#0d0887"
             ],
             [
              0.1111111111111111,
              "#46039f"
             ],
             [
              0.2222222222222222,
              "#7201a8"
             ],
             [
              0.3333333333333333,
              "#9c179e"
             ],
             [
              0.4444444444444444,
              "#bd3786"
             ],
             [
              0.5555555555555556,
              "#d8576b"
             ],
             [
              0.6666666666666666,
              "#ed7953"
             ],
             [
              0.7777777777777778,
              "#fb9f3a"
             ],
             [
              0.8888888888888888,
              "#fdca26"
             ],
             [
              1,
              "#f0f921"
             ]
            ],
            "type": "histogram2dcontour"
           }
          ],
          "mesh3d": [
           {
            "colorbar": {
             "outlinewidth": 0,
             "ticks": ""
            },
            "type": "mesh3d"
           }
          ],
          "parcoords": [
           {
            "line": {
             "colorbar": {
              "outlinewidth": 0,
              "ticks": ""
             }
            },
            "type": "parcoords"
           }
          ],
          "pie": [
           {
            "automargin": true,
            "type": "pie"
           }
          ],
          "scatter": [
           {
            "fillpattern": {
             "fillmode": "overlay",
             "size": 10,
             "solidity": 0.2
            },
            "type": "scatter"
           }
          ],
          "scatter3d": [
           {
            "line": {
             "colorbar": {
              "outlinewidth": 0,
              "ticks": ""
             }
            },
            "marker": {
             "colorbar": {
              "outlinewidth": 0,
              "ticks": ""
             }
            },
            "type": "scatter3d"
           }
          ],
          "scattercarpet": [
           {
            "marker": {
             "colorbar": {
              "outlinewidth": 0,
              "ticks": ""
             }
            },
            "type": "scattercarpet"
           }
          ],
          "scattergeo": [
           {
            "marker": {
             "colorbar": {
              "outlinewidth": 0,
              "ticks": ""
             }
            },
            "type": "scattergeo"
           }
          ],
          "scattergl": [
           {
            "marker": {
             "colorbar": {
              "outlinewidth": 0,
              "ticks": ""
             }
            },
            "type": "scattergl"
           }
          ],
          "scattermapbox": [
           {
            "marker": {
             "colorbar": {
              "outlinewidth": 0,
              "ticks": ""
             }
            },
            "type": "scattermapbox"
           }
          ],
          "scatterpolar": [
           {
            "marker": {
             "colorbar": {
              "outlinewidth": 0,
              "ticks": ""
             }
            },
            "type": "scatterpolar"
           }
          ],
          "scatterpolargl": [
           {
            "marker": {
             "colorbar": {
              "outlinewidth": 0,
              "ticks": ""
             }
            },
            "type": "scatterpolargl"
           }
          ],
          "scatterternary": [
           {
            "marker": {
             "colorbar": {
              "outlinewidth": 0,
              "ticks": ""
             }
            },
            "type": "scatterternary"
           }
          ],
          "surface": [
           {
            "colorbar": {
             "outlinewidth": 0,
             "ticks": ""
            },
            "colorscale": [
             [
              0,
              "#0d0887"
             ],
             [
              0.1111111111111111,
              "#46039f"
             ],
             [
              0.2222222222222222,
              "#7201a8"
             ],
             [
              0.3333333333333333,
              "#9c179e"
             ],
             [
              0.4444444444444444,
              "#bd3786"
             ],
             [
              0.5555555555555556,
              "#d8576b"
             ],
             [
              0.6666666666666666,
              "#ed7953"
             ],
             [
              0.7777777777777778,
              "#fb9f3a"
             ],
             [
              0.8888888888888888,
              "#fdca26"
             ],
             [
              1,
              "#f0f921"
             ]
            ],
            "type": "surface"
           }
          ],
          "table": [
           {
            "cells": {
             "fill": {
              "color": "#EBF0F8"
             },
             "line": {
              "color": "white"
             }
            },
            "header": {
             "fill": {
              "color": "#C8D4E3"
             },
             "line": {
              "color": "white"
             }
            },
            "type": "table"
           }
          ]
         },
         "layout": {
          "annotationdefaults": {
           "arrowcolor": "#2a3f5f",
           "arrowhead": 0,
           "arrowwidth": 1
          },
          "autotypenumbers": "strict",
          "coloraxis": {
           "colorbar": {
            "outlinewidth": 0,
            "ticks": ""
           }
          },
          "colorscale": {
           "diverging": [
            [
             0,
             "#8e0152"
            ],
            [
             0.1,
             "#c51b7d"
            ],
            [
             0.2,
             "#de77ae"
            ],
            [
             0.3,
             "#f1b6da"
            ],
            [
             0.4,
             "#fde0ef"
            ],
            [
             0.5,
             "#f7f7f7"
            ],
            [
             0.6,
             "#e6f5d0"
            ],
            [
             0.7,
             "#b8e186"
            ],
            [
             0.8,
             "#7fbc41"
            ],
            [
             0.9,
             "#4d9221"
            ],
            [
             1,
             "#276419"
            ]
           ],
           "sequential": [
            [
             0,
             "#0d0887"
            ],
            [
             0.1111111111111111,
             "#46039f"
            ],
            [
             0.2222222222222222,
             "#7201a8"
            ],
            [
             0.3333333333333333,
             "#9c179e"
            ],
            [
             0.4444444444444444,
             "#bd3786"
            ],
            [
             0.5555555555555556,
             "#d8576b"
            ],
            [
             0.6666666666666666,
             "#ed7953"
            ],
            [
             0.7777777777777778,
             "#fb9f3a"
            ],
            [
             0.8888888888888888,
             "#fdca26"
            ],
            [
             1,
             "#f0f921"
            ]
           ],
           "sequentialminus": [
            [
             0,
             "#0d0887"
            ],
            [
             0.1111111111111111,
             "#46039f"
            ],
            [
             0.2222222222222222,
             "#7201a8"
            ],
            [
             0.3333333333333333,
             "#9c179e"
            ],
            [
             0.4444444444444444,
             "#bd3786"
            ],
            [
             0.5555555555555556,
             "#d8576b"
            ],
            [
             0.6666666666666666,
             "#ed7953"
            ],
            [
             0.7777777777777778,
             "#fb9f3a"
            ],
            [
             0.8888888888888888,
             "#fdca26"
            ],
            [
             1,
             "#f0f921"
            ]
           ]
          },
          "colorway": [
           "#636efa",
           "#EF553B",
           "#00cc96",
           "#ab63fa",
           "#FFA15A",
           "#19d3f3",
           "#FF6692",
           "#B6E880",
           "#FF97FF",
           "#FECB52"
          ],
          "font": {
           "color": "#2a3f5f"
          },
          "geo": {
           "bgcolor": "white",
           "lakecolor": "white",
           "landcolor": "white",
           "showlakes": true,
           "showland": true,
           "subunitcolor": "#C8D4E3"
          },
          "hoverlabel": {
           "align": "left"
          },
          "hovermode": "closest",
          "mapbox": {
           "style": "light"
          },
          "paper_bgcolor": "white",
          "plot_bgcolor": "white",
          "polar": {
           "angularaxis": {
            "gridcolor": "#EBF0F8",
            "linecolor": "#EBF0F8",
            "ticks": ""
           },
           "bgcolor": "white",
           "radialaxis": {
            "gridcolor": "#EBF0F8",
            "linecolor": "#EBF0F8",
            "ticks": ""
           }
          },
          "scene": {
           "xaxis": {
            "backgroundcolor": "white",
            "gridcolor": "#DFE8F3",
            "gridwidth": 2,
            "linecolor": "#EBF0F8",
            "showbackground": true,
            "ticks": "",
            "zerolinecolor": "#EBF0F8"
           },
           "yaxis": {
            "backgroundcolor": "white",
            "gridcolor": "#DFE8F3",
            "gridwidth": 2,
            "linecolor": "#EBF0F8",
            "showbackground": true,
            "ticks": "",
            "zerolinecolor": "#EBF0F8"
           },
           "zaxis": {
            "backgroundcolor": "white",
            "gridcolor": "#DFE8F3",
            "gridwidth": 2,
            "linecolor": "#EBF0F8",
            "showbackground": true,
            "ticks": "",
            "zerolinecolor": "#EBF0F8"
           }
          },
          "shapedefaults": {
           "line": {
            "color": "#2a3f5f"
           }
          },
          "ternary": {
           "aaxis": {
            "gridcolor": "#DFE8F3",
            "linecolor": "#A2B1C6",
            "ticks": ""
           },
           "baxis": {
            "gridcolor": "#DFE8F3",
            "linecolor": "#A2B1C6",
            "ticks": ""
           },
           "bgcolor": "white",
           "caxis": {
            "gridcolor": "#DFE8F3",
            "linecolor": "#A2B1C6",
            "ticks": ""
           }
          },
          "title": {
           "x": 0.05
          },
          "xaxis": {
           "automargin": true,
           "gridcolor": "#EBF0F8",
           "linecolor": "#EBF0F8",
           "ticks": "",
           "title": {
            "standoff": 15
           },
           "zerolinecolor": "#EBF0F8",
           "zerolinewidth": 2
          },
          "yaxis": {
           "automargin": true,
           "gridcolor": "#EBF0F8",
           "linecolor": "#EBF0F8",
           "ticks": "",
           "title": {
            "standoff": 15
           },
           "zerolinecolor": "#EBF0F8",
           "zerolinewidth": 2
          }
         }
        },
        "title": {
         "text": "Top 10 Senadores por Valor Total de Reembolsos em 2022"
        },
        "xaxis": {
         "anchor": "y",
         "domain": [
          0,
          1
         ],
         "tickformat": "R$,.0f",
         "title": {
          "text": "Valor Total Reembolsado (R$)"
         }
        },
        "yaxis": {
         "anchor": "x",
         "autorange": "reversed",
         "domain": [
          0,
          1
         ],
         "tickfont": {
          "size": 12
         },
         "tickmode": "linear",
         "title": {
          "text": "Senador"
         }
        }
       }
      }
     },
     "metadata": {},
     "output_type": "display_data"
    }
   ],
   "source": [
    "# Filtrando os dados para o ano de 2022\n",
    "ceaps_2022 = ceaps_total[ceaps_total['ANO'] == 2022]\n",
    "\n",
    "# Agrupando por SENADOR e somar os VALOR_REEMBOLSADO, ordenando em ordem decrescente e selecionando os top 10\n",
    "top_senadores_2022 = ceaps_2022.groupby('SENADOR')['VALOR_REEMBOLSADO'].sum().sort_values(ascending=False).head(10)\n",
    "\n",
    "# Convertendo para DataFrame para facilitar a manipulação e visualização\n",
    "top_senadores_2022_df = top_senadores_2022.to_frame().reset_index()\n",
    "\n",
    "# Ordenando os senadores de forma decrescente pelos valores de reembolso\n",
    "top_senadores_2022_df = top_senadores_2022_df.sort_values(by='VALOR_REEMBOLSADO', ascending=False)\n",
    "\n",
    "# Criando o gráfico de barras horizontal com Plotly Express\n",
    "fig = px.bar(\n",
    "    top_senadores_2022_df,\n",
    "    x='VALOR_REEMBOLSADO',\n",
    "    y='SENADOR',\n",
    "    title='Top 10 Senadores por Valor Total de Reembolsos em 2022',\n",
    "    labels={'VALOR_REEMBOLSADO': 'Valor Total Reembolsado (R$)', 'SENADOR': 'Senador'},\n",
    "    template='plotly_white',\n",
    "    text='VALOR_REEMBOLSADO',\n",
    ")\n",
    "\n",
    "# Ajustando o layout do gráfico\n",
    "fig.update_traces(\n",
    "    texttemplate='%{text:.2s}',  # Formatar os valores para notação científica curta\n",
    "    textposition='inside',  # Colocar os textos fora das barras\n",
    "    marker_color='blue',  # Cor das barras\n",
    "    opacity=0.75  # Transparência das barras\n",
    ")\n",
    "\n",
    "# Configurando o formato do eixo X para valores monetários\n",
    "fig.update_layout(\n",
    "    xaxis_title='Valor Total Reembolsado (R$)',\n",
    "    yaxis_title='Senador',\n",
    "    xaxis=dict(\n",
    "        tickformat='R$,.0f'  # Formato para valores monetários\n",
    "    ),\n",
    "    yaxis=dict(\n",
    "        tickmode='linear',  # Mostrar todos os senadores\n",
    "        tickfont=dict(size=12),  # Tamanho da fonte\n",
    "        autorange='reversed'  # Reverter a ordem para maior gasto no topo\n",
    "    ),\n",
    "    margin=dict(l=20, r=20, t=60, b=60),  # Ajustar as margens\n",
    "    font=dict(\n",
    "        size=12  # Tamanho da fonte\n",
    "    ),\n",
    "    plot_bgcolor='rgba(0, 0, 0, 0)',  # Fundo transparente\n",
    "    paper_bgcolor='rgba(0, 0, 0, 0)',  # Fundo do papel transparente\n",
    "    showlegend=False  # Ocultar a legenda\n",
    ")\n"
   ]
  },
  {
   "cell_type": "markdown",
   "id": "4835e8d1-39dc-493c-8cfa-9c89fe3a793b",
   "metadata": {},
   "source": [
    "Valor de reembolsos por tipo de despesa?"
   ]
  },
  {
   "cell_type": "code",
   "execution_count": 33,
   "id": "918ca6fb-4c53-4c3a-8766-ca82175a0bc7",
   "metadata": {
    "tags": []
   },
   "outputs": [
    {
     "data": {
      "application/vnd.plotly.v1+json": {
       "config": {
        "plotlyServerURL": "https://plot.ly"
       },
       "data": [
        {
         "alignmentgroup": "True",
         "hovertemplate": "Valor Total de Reembolso (R$)=%{text}<br>Tipo de Despesa=%{y}<extra></extra>",
         "legendgroup": "",
         "marker": {
          "color": "blue",
          "pattern": {
           "shape": ""
          }
         },
         "name": "",
         "offsetgroup": "",
         "opacity": 0.75,
         "orientation": "h",
         "showlegend": false,
         "text": [
          3092528.5,
          12755148.47,
          42550401.53,
          55866782.52,
          60145652.12,
          72029143.62,
          77585652.54
         ],
         "textposition": "inside",
         "texttemplate": "%{text:.2f}",
         "type": "bar",
         "x": [
          3092528.5,
          12755148.47,
          42550401.53,
          55866782.52,
          60145652.12,
          72029143.62,
          77585652.54
         ],
         "xaxis": "x",
         "y": [
          "Segurança",
          "Despesas gerais",
          "Divulgação",
          "Contratações",
          "Aluguel",
          "Passagens",
          "Locomoção, hospedagem e alimentação"
         ],
         "yaxis": "y"
        }
       ],
       "layout": {
        "barmode": "relative",
        "font": {
         "size": 12
        },
        "legend": {
         "tracegroupgap": 0
        },
        "margin": {
         "b": 60,
         "l": 20,
         "r": 20,
         "t": 60
        },
        "paper_bgcolor": "rgba(0, 0, 0, 0)",
        "plot_bgcolor": "rgba(0, 0, 0, 0)",
        "showlegend": false,
        "template": {
         "data": {
          "bar": [
           {
            "error_x": {
             "color": "#2a3f5f"
            },
            "error_y": {
             "color": "#2a3f5f"
            },
            "marker": {
             "line": {
              "color": "white",
              "width": 0.5
             },
             "pattern": {
              "fillmode": "overlay",
              "size": 10,
              "solidity": 0.2
             }
            },
            "type": "bar"
           }
          ],
          "barpolar": [
           {
            "marker": {
             "line": {
              "color": "white",
              "width": 0.5
             },
             "pattern": {
              "fillmode": "overlay",
              "size": 10,
              "solidity": 0.2
             }
            },
            "type": "barpolar"
           }
          ],
          "carpet": [
           {
            "aaxis": {
             "endlinecolor": "#2a3f5f",
             "gridcolor": "#C8D4E3",
             "linecolor": "#C8D4E3",
             "minorgridcolor": "#C8D4E3",
             "startlinecolor": "#2a3f5f"
            },
            "baxis": {
             "endlinecolor": "#2a3f5f",
             "gridcolor": "#C8D4E3",
             "linecolor": "#C8D4E3",
             "minorgridcolor": "#C8D4E3",
             "startlinecolor": "#2a3f5f"
            },
            "type": "carpet"
           }
          ],
          "choropleth": [
           {
            "colorbar": {
             "outlinewidth": 0,
             "ticks": ""
            },
            "type": "choropleth"
           }
          ],
          "contour": [
           {
            "colorbar": {
             "outlinewidth": 0,
             "ticks": ""
            },
            "colorscale": [
             [
              0,
              "#0d0887"
             ],
             [
              0.1111111111111111,
              "#46039f"
             ],
             [
              0.2222222222222222,
              "#7201a8"
             ],
             [
              0.3333333333333333,
              "#9c179e"
             ],
             [
              0.4444444444444444,
              "#bd3786"
             ],
             [
              0.5555555555555556,
              "#d8576b"
             ],
             [
              0.6666666666666666,
              "#ed7953"
             ],
             [
              0.7777777777777778,
              "#fb9f3a"
             ],
             [
              0.8888888888888888,
              "#fdca26"
             ],
             [
              1,
              "#f0f921"
             ]
            ],
            "type": "contour"
           }
          ],
          "contourcarpet": [
           {
            "colorbar": {
             "outlinewidth": 0,
             "ticks": ""
            },
            "type": "contourcarpet"
           }
          ],
          "heatmap": [
           {
            "colorbar": {
             "outlinewidth": 0,
             "ticks": ""
            },
            "colorscale": [
             [
              0,
              "#0d0887"
             ],
             [
              0.1111111111111111,
              "#46039f"
             ],
             [
              0.2222222222222222,
              "#7201a8"
             ],
             [
              0.3333333333333333,
              "#9c179e"
             ],
             [
              0.4444444444444444,
              "#bd3786"
             ],
             [
              0.5555555555555556,
              "#d8576b"
             ],
             [
              0.6666666666666666,
              "#ed7953"
             ],
             [
              0.7777777777777778,
              "#fb9f3a"
             ],
             [
              0.8888888888888888,
              "#fdca26"
             ],
             [
              1,
              "#f0f921"
             ]
            ],
            "type": "heatmap"
           }
          ],
          "heatmapgl": [
           {
            "colorbar": {
             "outlinewidth": 0,
             "ticks": ""
            },
            "colorscale": [
             [
              0,
              "#0d0887"
             ],
             [
              0.1111111111111111,
              "#46039f"
             ],
             [
              0.2222222222222222,
              "#7201a8"
             ],
             [
              0.3333333333333333,
              "#9c179e"
             ],
             [
              0.4444444444444444,
              "#bd3786"
             ],
             [
              0.5555555555555556,
              "#d8576b"
             ],
             [
              0.6666666666666666,
              "#ed7953"
             ],
             [
              0.7777777777777778,
              "#fb9f3a"
             ],
             [
              0.8888888888888888,
              "#fdca26"
             ],
             [
              1,
              "#f0f921"
             ]
            ],
            "type": "heatmapgl"
           }
          ],
          "histogram": [
           {
            "marker": {
             "pattern": {
              "fillmode": "overlay",
              "size": 10,
              "solidity": 0.2
             }
            },
            "type": "histogram"
           }
          ],
          "histogram2d": [
           {
            "colorbar": {
             "outlinewidth": 0,
             "ticks": ""
            },
            "colorscale": [
             [
              0,
              "#0d0887"
             ],
             [
              0.1111111111111111,
              "#46039f"
             ],
             [
              0.2222222222222222,
              "#7201a8"
             ],
             [
              0.3333333333333333,
              "#9c179e"
             ],
             [
              0.4444444444444444,
              "#bd3786"
             ],
             [
              0.5555555555555556,
              "#d8576b"
             ],
             [
              0.6666666666666666,
              "#ed7953"
             ],
             [
              0.7777777777777778,
              "#fb9f3a"
             ],
             [
              0.8888888888888888,
              "#fdca26"
             ],
             [
              1,
              "#f0f921"
             ]
            ],
            "type": "histogram2d"
           }
          ],
          "histogram2dcontour": [
           {
            "colorbar": {
             "outlinewidth": 0,
             "ticks": ""
            },
            "colorscale": [
             [
              0,
              "#0d0887"
             ],
             [
              0.1111111111111111,
              "#46039f"
             ],
             [
              0.2222222222222222,
              "#7201a8"
             ],
             [
              0.3333333333333333,
              "#9c179e"
             ],
             [
              0.4444444444444444,
              "#bd3786"
             ],
             [
              0.5555555555555556,
              "#d8576b"
             ],
             [
              0.6666666666666666,
              "#ed7953"
             ],
             [
              0.7777777777777778,
              "#fb9f3a"
             ],
             [
              0.8888888888888888,
              "#fdca26"
             ],
             [
              1,
              "#f0f921"
             ]
            ],
            "type": "histogram2dcontour"
           }
          ],
          "mesh3d": [
           {
            "colorbar": {
             "outlinewidth": 0,
             "ticks": ""
            },
            "type": "mesh3d"
           }
          ],
          "parcoords": [
           {
            "line": {
             "colorbar": {
              "outlinewidth": 0,
              "ticks": ""
             }
            },
            "type": "parcoords"
           }
          ],
          "pie": [
           {
            "automargin": true,
            "type": "pie"
           }
          ],
          "scatter": [
           {
            "fillpattern": {
             "fillmode": "overlay",
             "size": 10,
             "solidity": 0.2
            },
            "type": "scatter"
           }
          ],
          "scatter3d": [
           {
            "line": {
             "colorbar": {
              "outlinewidth": 0,
              "ticks": ""
             }
            },
            "marker": {
             "colorbar": {
              "outlinewidth": 0,
              "ticks": ""
             }
            },
            "type": "scatter3d"
           }
          ],
          "scattercarpet": [
           {
            "marker": {
             "colorbar": {
              "outlinewidth": 0,
              "ticks": ""
             }
            },
            "type": "scattercarpet"
           }
          ],
          "scattergeo": [
           {
            "marker": {
             "colorbar": {
              "outlinewidth": 0,
              "ticks": ""
             }
            },
            "type": "scattergeo"
           }
          ],
          "scattergl": [
           {
            "marker": {
             "colorbar": {
              "outlinewidth": 0,
              "ticks": ""
             }
            },
            "type": "scattergl"
           }
          ],
          "scattermapbox": [
           {
            "marker": {
             "colorbar": {
              "outlinewidth": 0,
              "ticks": ""
             }
            },
            "type": "scattermapbox"
           }
          ],
          "scatterpolar": [
           {
            "marker": {
             "colorbar": {
              "outlinewidth": 0,
              "ticks": ""
             }
            },
            "type": "scatterpolar"
           }
          ],
          "scatterpolargl": [
           {
            "marker": {
             "colorbar": {
              "outlinewidth": 0,
              "ticks": ""
             }
            },
            "type": "scatterpolargl"
           }
          ],
          "scatterternary": [
           {
            "marker": {
             "colorbar": {
              "outlinewidth": 0,
              "ticks": ""
             }
            },
            "type": "scatterternary"
           }
          ],
          "surface": [
           {
            "colorbar": {
             "outlinewidth": 0,
             "ticks": ""
            },
            "colorscale": [
             [
              0,
              "#0d0887"
             ],
             [
              0.1111111111111111,
              "#46039f"
             ],
             [
              0.2222222222222222,
              "#7201a8"
             ],
             [
              0.3333333333333333,
              "#9c179e"
             ],
             [
              0.4444444444444444,
              "#bd3786"
             ],
             [
              0.5555555555555556,
              "#d8576b"
             ],
             [
              0.6666666666666666,
              "#ed7953"
             ],
             [
              0.7777777777777778,
              "#fb9f3a"
             ],
             [
              0.8888888888888888,
              "#fdca26"
             ],
             [
              1,
              "#f0f921"
             ]
            ],
            "type": "surface"
           }
          ],
          "table": [
           {
            "cells": {
             "fill": {
              "color": "#EBF0F8"
             },
             "line": {
              "color": "white"
             }
            },
            "header": {
             "fill": {
              "color": "#C8D4E3"
             },
             "line": {
              "color": "white"
             }
            },
            "type": "table"
           }
          ]
         },
         "layout": {
          "annotationdefaults": {
           "arrowcolor": "#2a3f5f",
           "arrowhead": 0,
           "arrowwidth": 1
          },
          "autotypenumbers": "strict",
          "coloraxis": {
           "colorbar": {
            "outlinewidth": 0,
            "ticks": ""
           }
          },
          "colorscale": {
           "diverging": [
            [
             0,
             "#8e0152"
            ],
            [
             0.1,
             "#c51b7d"
            ],
            [
             0.2,
             "#de77ae"
            ],
            [
             0.3,
             "#f1b6da"
            ],
            [
             0.4,
             "#fde0ef"
            ],
            [
             0.5,
             "#f7f7f7"
            ],
            [
             0.6,
             "#e6f5d0"
            ],
            [
             0.7,
             "#b8e186"
            ],
            [
             0.8,
             "#7fbc41"
            ],
            [
             0.9,
             "#4d9221"
            ],
            [
             1,
             "#276419"
            ]
           ],
           "sequential": [
            [
             0,
             "#0d0887"
            ],
            [
             0.1111111111111111,
             "#46039f"
            ],
            [
             0.2222222222222222,
             "#7201a8"
            ],
            [
             0.3333333333333333,
             "#9c179e"
            ],
            [
             0.4444444444444444,
             "#bd3786"
            ],
            [
             0.5555555555555556,
             "#d8576b"
            ],
            [
             0.6666666666666666,
             "#ed7953"
            ],
            [
             0.7777777777777778,
             "#fb9f3a"
            ],
            [
             0.8888888888888888,
             "#fdca26"
            ],
            [
             1,
             "#f0f921"
            ]
           ],
           "sequentialminus": [
            [
             0,
             "#0d0887"
            ],
            [
             0.1111111111111111,
             "#46039f"
            ],
            [
             0.2222222222222222,
             "#7201a8"
            ],
            [
             0.3333333333333333,
             "#9c179e"
            ],
            [
             0.4444444444444444,
             "#bd3786"
            ],
            [
             0.5555555555555556,
             "#d8576b"
            ],
            [
             0.6666666666666666,
             "#ed7953"
            ],
            [
             0.7777777777777778,
             "#fb9f3a"
            ],
            [
             0.8888888888888888,
             "#fdca26"
            ],
            [
             1,
             "#f0f921"
            ]
           ]
          },
          "colorway": [
           "#636efa",
           "#EF553B",
           "#00cc96",
           "#ab63fa",
           "#FFA15A",
           "#19d3f3",
           "#FF6692",
           "#B6E880",
           "#FF97FF",
           "#FECB52"
          ],
          "font": {
           "color": "#2a3f5f"
          },
          "geo": {
           "bgcolor": "white",
           "lakecolor": "white",
           "landcolor": "white",
           "showlakes": true,
           "showland": true,
           "subunitcolor": "#C8D4E3"
          },
          "hoverlabel": {
           "align": "left"
          },
          "hovermode": "closest",
          "mapbox": {
           "style": "light"
          },
          "paper_bgcolor": "white",
          "plot_bgcolor": "white",
          "polar": {
           "angularaxis": {
            "gridcolor": "#EBF0F8",
            "linecolor": "#EBF0F8",
            "ticks": ""
           },
           "bgcolor": "white",
           "radialaxis": {
            "gridcolor": "#EBF0F8",
            "linecolor": "#EBF0F8",
            "ticks": ""
           }
          },
          "scene": {
           "xaxis": {
            "backgroundcolor": "white",
            "gridcolor": "#DFE8F3",
            "gridwidth": 2,
            "linecolor": "#EBF0F8",
            "showbackground": true,
            "ticks": "",
            "zerolinecolor": "#EBF0F8"
           },
           "yaxis": {
            "backgroundcolor": "white",
            "gridcolor": "#DFE8F3",
            "gridwidth": 2,
            "linecolor": "#EBF0F8",
            "showbackground": true,
            "ticks": "",
            "zerolinecolor": "#EBF0F8"
           },
           "zaxis": {
            "backgroundcolor": "white",
            "gridcolor": "#DFE8F3",
            "gridwidth": 2,
            "linecolor": "#EBF0F8",
            "showbackground": true,
            "ticks": "",
            "zerolinecolor": "#EBF0F8"
           }
          },
          "shapedefaults": {
           "line": {
            "color": "#2a3f5f"
           }
          },
          "ternary": {
           "aaxis": {
            "gridcolor": "#DFE8F3",
            "linecolor": "#A2B1C6",
            "ticks": ""
           },
           "baxis": {
            "gridcolor": "#DFE8F3",
            "linecolor": "#A2B1C6",
            "ticks": ""
           },
           "bgcolor": "white",
           "caxis": {
            "gridcolor": "#DFE8F3",
            "linecolor": "#A2B1C6",
            "ticks": ""
           }
          },
          "title": {
           "x": 0.05
          },
          "xaxis": {
           "automargin": true,
           "gridcolor": "#EBF0F8",
           "linecolor": "#EBF0F8",
           "ticks": "",
           "title": {
            "standoff": 15
           },
           "zerolinecolor": "#EBF0F8",
           "zerolinewidth": 2
          },
          "yaxis": {
           "automargin": true,
           "gridcolor": "#EBF0F8",
           "linecolor": "#EBF0F8",
           "ticks": "",
           "title": {
            "standoff": 15
           },
           "zerolinecolor": "#EBF0F8",
           "zerolinewidth": 2
          }
         }
        },
        "title": {
         "text": "Valor Total de Reembolso por Tipo de Despesa"
        },
        "xaxis": {
         "anchor": "y",
         "domain": [
          0,
          1
         ],
         "tickformat": "R$,",
         "title": {
          "text": "Valor Total de Reembolso (R$)"
         }
        },
        "yaxis": {
         "anchor": "x",
         "domain": [
          0,
          1
         ],
         "tickfont": {
          "size": 12
         },
         "tickmode": "linear",
         "title": {
          "text": "Tipo de Despesa"
         }
        }
       }
      }
     },
     "metadata": {},
     "output_type": "display_data"
    }
   ],
   "source": [
    "# Agrupando e somando os valores de reembolso por tipo de despesa\n",
    "valor_total_por_tipo = ceaps_total.groupby('TIPO_DESPESA')['VALOR_REEMBOLSADO'].sum().reset_index()\n",
    "\n",
    "# Ordenando os tipos de despesa pelo valor total de reembolso em ordem decrescente\n",
    "valor_total_por_tipo = valor_total_por_tipo.sort_values(by='VALOR_REEMBOLSADO', ascending=True)\n",
    "\n",
    "# Visualizando os principais tipos de despesa (ou todos, se desejar)\n",
    "top_valor_total_por_tipo = valor_total_por_tipo.head(10)  # Aqui você pode ajustar para ver mais ou menos categorias\n",
    "\n",
    "# Criando um gráfico de barras horizontal para visualizar os valores de reembolso por tipo de despesa\n",
    "fig = px.bar(\n",
    "    top_valor_total_por_tipo,\n",
    "    x='VALOR_REEMBOLSADO',\n",
    "    y='TIPO_DESPESA',\n",
    "    title='Valor Total de Reembolso por Tipo de Despesa',\n",
    "    labels={'VALOR_REEMBOLSADO': 'Valor Total de Reembolso (R$)', 'TIPO_DESPESA': 'Tipo de Despesa'},\n",
    "    template='plotly_white',\n",
    "    orientation='h',\n",
    "    text='VALOR_REEMBOLSADO'\n",
    ")\n",
    "\n",
    "# Ajustando o layout do gráfico\n",
    "fig.update_traces(\n",
    "    texttemplate='%{text:.2f}',  # Mostrar os valores de reembolso nas barras\n",
    "    textposition='inside',  # Colocar os textos fora das barras\n",
    "    marker_color='blue',  # Cor das barras\n",
    "    opacity=0.75  # Transparência das barras\n",
    ")\n",
    "\n",
    "fig.update_layout(\n",
    "    xaxis_title='Valor Total de Reembolso (R$)',\n",
    "    yaxis_title='Tipo de Despesa',\n",
    "    yaxis=dict(\n",
    "        tickmode='linear',  # Mostrar todos os tipos de despesa\n",
    "        tickfont=dict(size=12)  # Tamanho da fonte\n",
    "    ),\n",
    "    xaxis_tickformat='R$,',  # Formato do eixo X para valores monetários\n",
    "    margin=dict(l=20, r=20, t=60, b=60),  # Ajustar as margens\n",
    "    font=dict(size=12),  # Tamanho da fonte\n",
    "    plot_bgcolor='rgba(0, 0, 0, 0)',  # Fundo transparente\n",
    "    paper_bgcolor='rgba(0, 0, 0, 0)',  # Fundo do papel transparente\n",
    "    showlegend=False  # Ocultar a legenda\n",
    ")\n"
   ]
  },
  {
   "cell_type": "markdown",
   "id": "df4349e7-dba6-43ab-a969-21777a08ff6e",
   "metadata": {},
   "source": [
    "Valor de reembolsos por tipo de despesa em 2022?"
   ]
  },
  {
   "cell_type": "code",
   "execution_count": 30,
   "id": "896b98b8-201f-45e5-97f6-effe128e7f8b",
   "metadata": {
    "tags": []
   },
   "outputs": [
    {
     "data": {
      "application/vnd.plotly.v1+json": {
       "config": {
        "plotlyServerURL": "https://plot.ly"
       },
       "data": [
        {
         "alignmentgroup": "True",
         "hovertemplate": "Valor Total de Reembolso (R$)=%{text}<br>Tipo de Despesa=%{y}<extra></extra>",
         "legendgroup": "",
         "marker": {
          "color": "blue",
          "pattern": {
           "shape": ""
          }
         },
         "name": "",
         "offsetgroup": "",
         "opacity": 0.75,
         "orientation": "h",
         "showlegend": false,
         "text": [
          12222.56,
          983707.82,
          3345915.36,
          3976536.92,
          5259973.51,
          6291126.3,
          7423646.13
         ],
         "textposition": "inside",
         "texttemplate": "%{text:.2f}",
         "type": "bar",
         "x": [
          12222.56,
          983707.82,
          3345915.36,
          3976536.92,
          5259973.51,
          6291126.3,
          7423646.13
         ],
         "xaxis": "x",
         "y": [
          "Segurança",
          "Despesas gerais",
          "Divulgação",
          "Aluguel",
          "Locomoção, hospedagem e alimentação",
          "Contratações",
          "Passagens"
         ],
         "yaxis": "y"
        }
       ],
       "layout": {
        "barmode": "relative",
        "font": {
         "size": 12
        },
        "legend": {
         "tracegroupgap": 0
        },
        "margin": {
         "b": 60,
         "l": 20,
         "r": 20,
         "t": 60
        },
        "paper_bgcolor": "rgba(0, 0, 0, 0)",
        "plot_bgcolor": "rgba(0, 0, 0, 0)",
        "showlegend": false,
        "template": {
         "data": {
          "bar": [
           {
            "error_x": {
             "color": "#2a3f5f"
            },
            "error_y": {
             "color": "#2a3f5f"
            },
            "marker": {
             "line": {
              "color": "white",
              "width": 0.5
             },
             "pattern": {
              "fillmode": "overlay",
              "size": 10,
              "solidity": 0.2
             }
            },
            "type": "bar"
           }
          ],
          "barpolar": [
           {
            "marker": {
             "line": {
              "color": "white",
              "width": 0.5
             },
             "pattern": {
              "fillmode": "overlay",
              "size": 10,
              "solidity": 0.2
             }
            },
            "type": "barpolar"
           }
          ],
          "carpet": [
           {
            "aaxis": {
             "endlinecolor": "#2a3f5f",
             "gridcolor": "#C8D4E3",
             "linecolor": "#C8D4E3",
             "minorgridcolor": "#C8D4E3",
             "startlinecolor": "#2a3f5f"
            },
            "baxis": {
             "endlinecolor": "#2a3f5f",
             "gridcolor": "#C8D4E3",
             "linecolor": "#C8D4E3",
             "minorgridcolor": "#C8D4E3",
             "startlinecolor": "#2a3f5f"
            },
            "type": "carpet"
           }
          ],
          "choropleth": [
           {
            "colorbar": {
             "outlinewidth": 0,
             "ticks": ""
            },
            "type": "choropleth"
           }
          ],
          "contour": [
           {
            "colorbar": {
             "outlinewidth": 0,
             "ticks": ""
            },
            "colorscale": [
             [
              0,
              "#0d0887"
             ],
             [
              0.1111111111111111,
              "#46039f"
             ],
             [
              0.2222222222222222,
              "#7201a8"
             ],
             [
              0.3333333333333333,
              "#9c179e"
             ],
             [
              0.4444444444444444,
              "#bd3786"
             ],
             [
              0.5555555555555556,
              "#d8576b"
             ],
             [
              0.6666666666666666,
              "#ed7953"
             ],
             [
              0.7777777777777778,
              "#fb9f3a"
             ],
             [
              0.8888888888888888,
              "#fdca26"
             ],
             [
              1,
              "#f0f921"
             ]
            ],
            "type": "contour"
           }
          ],
          "contourcarpet": [
           {
            "colorbar": {
             "outlinewidth": 0,
             "ticks": ""
            },
            "type": "contourcarpet"
           }
          ],
          "heatmap": [
           {
            "colorbar": {
             "outlinewidth": 0,
             "ticks": ""
            },
            "colorscale": [
             [
              0,
              "#0d0887"
             ],
             [
              0.1111111111111111,
              "#46039f"
             ],
             [
              0.2222222222222222,
              "#7201a8"
             ],
             [
              0.3333333333333333,
              "#9c179e"
             ],
             [
              0.4444444444444444,
              "#bd3786"
             ],
             [
              0.5555555555555556,
              "#d8576b"
             ],
             [
              0.6666666666666666,
              "#ed7953"
             ],
             [
              0.7777777777777778,
              "#fb9f3a"
             ],
             [
              0.8888888888888888,
              "#fdca26"
             ],
             [
              1,
              "#f0f921"
             ]
            ],
            "type": "heatmap"
           }
          ],
          "heatmapgl": [
           {
            "colorbar": {
             "outlinewidth": 0,
             "ticks": ""
            },
            "colorscale": [
             [
              0,
              "#0d0887"
             ],
             [
              0.1111111111111111,
              "#46039f"
             ],
             [
              0.2222222222222222,
              "#7201a8"
             ],
             [
              0.3333333333333333,
              "#9c179e"
             ],
             [
              0.4444444444444444,
              "#bd3786"
             ],
             [
              0.5555555555555556,
              "#d8576b"
             ],
             [
              0.6666666666666666,
              "#ed7953"
             ],
             [
              0.7777777777777778,
              "#fb9f3a"
             ],
             [
              0.8888888888888888,
              "#fdca26"
             ],
             [
              1,
              "#f0f921"
             ]
            ],
            "type": "heatmapgl"
           }
          ],
          "histogram": [
           {
            "marker": {
             "pattern": {
              "fillmode": "overlay",
              "size": 10,
              "solidity": 0.2
             }
            },
            "type": "histogram"
           }
          ],
          "histogram2d": [
           {
            "colorbar": {
             "outlinewidth": 0,
             "ticks": ""
            },
            "colorscale": [
             [
              0,
              "#0d0887"
             ],
             [
              0.1111111111111111,
              "#46039f"
             ],
             [
              0.2222222222222222,
              "#7201a8"
             ],
             [
              0.3333333333333333,
              "#9c179e"
             ],
             [
              0.4444444444444444,
              "#bd3786"
             ],
             [
              0.5555555555555556,
              "#d8576b"
             ],
             [
              0.6666666666666666,
              "#ed7953"
             ],
             [
              0.7777777777777778,
              "#fb9f3a"
             ],
             [
              0.8888888888888888,
              "#fdca26"
             ],
             [
              1,
              "#f0f921"
             ]
            ],
            "type": "histogram2d"
           }
          ],
          "histogram2dcontour": [
           {
            "colorbar": {
             "outlinewidth": 0,
             "ticks": ""
            },
            "colorscale": [
             [
              0,
              "#0d0887"
             ],
             [
              0.1111111111111111,
              "#46039f"
             ],
             [
              0.2222222222222222,
              "#7201a8"
             ],
             [
              0.3333333333333333,
              "#9c179e"
             ],
             [
              0.4444444444444444,
              "#bd3786"
             ],
             [
              0.5555555555555556,
              "#d8576b"
             ],
             [
              0.6666666666666666,
              "#ed7953"
             ],
             [
              0.7777777777777778,
              "#fb9f3a"
             ],
             [
              0.8888888888888888,
              "#fdca26"
             ],
             [
              1,
              "#f0f921"
             ]
            ],
            "type": "histogram2dcontour"
           }
          ],
          "mesh3d": [
           {
            "colorbar": {
             "outlinewidth": 0,
             "ticks": ""
            },
            "type": "mesh3d"
           }
          ],
          "parcoords": [
           {
            "line": {
             "colorbar": {
              "outlinewidth": 0,
              "ticks": ""
             }
            },
            "type": "parcoords"
           }
          ],
          "pie": [
           {
            "automargin": true,
            "type": "pie"
           }
          ],
          "scatter": [
           {
            "fillpattern": {
             "fillmode": "overlay",
             "size": 10,
             "solidity": 0.2
            },
            "type": "scatter"
           }
          ],
          "scatter3d": [
           {
            "line": {
             "colorbar": {
              "outlinewidth": 0,
              "ticks": ""
             }
            },
            "marker": {
             "colorbar": {
              "outlinewidth": 0,
              "ticks": ""
             }
            },
            "type": "scatter3d"
           }
          ],
          "scattercarpet": [
           {
            "marker": {
             "colorbar": {
              "outlinewidth": 0,
              "ticks": ""
             }
            },
            "type": "scattercarpet"
           }
          ],
          "scattergeo": [
           {
            "marker": {
             "colorbar": {
              "outlinewidth": 0,
              "ticks": ""
             }
            },
            "type": "scattergeo"
           }
          ],
          "scattergl": [
           {
            "marker": {
             "colorbar": {
              "outlinewidth": 0,
              "ticks": ""
             }
            },
            "type": "scattergl"
           }
          ],
          "scattermapbox": [
           {
            "marker": {
             "colorbar": {
              "outlinewidth": 0,
              "ticks": ""
             }
            },
            "type": "scattermapbox"
           }
          ],
          "scatterpolar": [
           {
            "marker": {
             "colorbar": {
              "outlinewidth": 0,
              "ticks": ""
             }
            },
            "type": "scatterpolar"
           }
          ],
          "scatterpolargl": [
           {
            "marker": {
             "colorbar": {
              "outlinewidth": 0,
              "ticks": ""
             }
            },
            "type": "scatterpolargl"
           }
          ],
          "scatterternary": [
           {
            "marker": {
             "colorbar": {
              "outlinewidth": 0,
              "ticks": ""
             }
            },
            "type": "scatterternary"
           }
          ],
          "surface": [
           {
            "colorbar": {
             "outlinewidth": 0,
             "ticks": ""
            },
            "colorscale": [
             [
              0,
              "#0d0887"
             ],
             [
              0.1111111111111111,
              "#46039f"
             ],
             [
              0.2222222222222222,
              "#7201a8"
             ],
             [
              0.3333333333333333,
              "#9c179e"
             ],
             [
              0.4444444444444444,
              "#bd3786"
             ],
             [
              0.5555555555555556,
              "#d8576b"
             ],
             [
              0.6666666666666666,
              "#ed7953"
             ],
             [
              0.7777777777777778,
              "#fb9f3a"
             ],
             [
              0.8888888888888888,
              "#fdca26"
             ],
             [
              1,
              "#f0f921"
             ]
            ],
            "type": "surface"
           }
          ],
          "table": [
           {
            "cells": {
             "fill": {
              "color": "#EBF0F8"
             },
             "line": {
              "color": "white"
             }
            },
            "header": {
             "fill": {
              "color": "#C8D4E3"
             },
             "line": {
              "color": "white"
             }
            },
            "type": "table"
           }
          ]
         },
         "layout": {
          "annotationdefaults": {
           "arrowcolor": "#2a3f5f",
           "arrowhead": 0,
           "arrowwidth": 1
          },
          "autotypenumbers": "strict",
          "coloraxis": {
           "colorbar": {
            "outlinewidth": 0,
            "ticks": ""
           }
          },
          "colorscale": {
           "diverging": [
            [
             0,
             "#8e0152"
            ],
            [
             0.1,
             "#c51b7d"
            ],
            [
             0.2,
             "#de77ae"
            ],
            [
             0.3,
             "#f1b6da"
            ],
            [
             0.4,
             "#fde0ef"
            ],
            [
             0.5,
             "#f7f7f7"
            ],
            [
             0.6,
             "#e6f5d0"
            ],
            [
             0.7,
             "#b8e186"
            ],
            [
             0.8,
             "#7fbc41"
            ],
            [
             0.9,
             "#4d9221"
            ],
            [
             1,
             "#276419"
            ]
           ],
           "sequential": [
            [
             0,
             "#0d0887"
            ],
            [
             0.1111111111111111,
             "#46039f"
            ],
            [
             0.2222222222222222,
             "#7201a8"
            ],
            [
             0.3333333333333333,
             "#9c179e"
            ],
            [
             0.4444444444444444,
             "#bd3786"
            ],
            [
             0.5555555555555556,
             "#d8576b"
            ],
            [
             0.6666666666666666,
             "#ed7953"
            ],
            [
             0.7777777777777778,
             "#fb9f3a"
            ],
            [
             0.8888888888888888,
             "#fdca26"
            ],
            [
             1,
             "#f0f921"
            ]
           ],
           "sequentialminus": [
            [
             0,
             "#0d0887"
            ],
            [
             0.1111111111111111,
             "#46039f"
            ],
            [
             0.2222222222222222,
             "#7201a8"
            ],
            [
             0.3333333333333333,
             "#9c179e"
            ],
            [
             0.4444444444444444,
             "#bd3786"
            ],
            [
             0.5555555555555556,
             "#d8576b"
            ],
            [
             0.6666666666666666,
             "#ed7953"
            ],
            [
             0.7777777777777778,
             "#fb9f3a"
            ],
            [
             0.8888888888888888,
             "#fdca26"
            ],
            [
             1,
             "#f0f921"
            ]
           ]
          },
          "colorway": [
           "#636efa",
           "#EF553B",
           "#00cc96",
           "#ab63fa",
           "#FFA15A",
           "#19d3f3",
           "#FF6692",
           "#B6E880",
           "#FF97FF",
           "#FECB52"
          ],
          "font": {
           "color": "#2a3f5f"
          },
          "geo": {
           "bgcolor": "white",
           "lakecolor": "white",
           "landcolor": "white",
           "showlakes": true,
           "showland": true,
           "subunitcolor": "#C8D4E3"
          },
          "hoverlabel": {
           "align": "left"
          },
          "hovermode": "closest",
          "mapbox": {
           "style": "light"
          },
          "paper_bgcolor": "white",
          "plot_bgcolor": "white",
          "polar": {
           "angularaxis": {
            "gridcolor": "#EBF0F8",
            "linecolor": "#EBF0F8",
            "ticks": ""
           },
           "bgcolor": "white",
           "radialaxis": {
            "gridcolor": "#EBF0F8",
            "linecolor": "#EBF0F8",
            "ticks": ""
           }
          },
          "scene": {
           "xaxis": {
            "backgroundcolor": "white",
            "gridcolor": "#DFE8F3",
            "gridwidth": 2,
            "linecolor": "#EBF0F8",
            "showbackground": true,
            "ticks": "",
            "zerolinecolor": "#EBF0F8"
           },
           "yaxis": {
            "backgroundcolor": "white",
            "gridcolor": "#DFE8F3",
            "gridwidth": 2,
            "linecolor": "#EBF0F8",
            "showbackground": true,
            "ticks": "",
            "zerolinecolor": "#EBF0F8"
           },
           "zaxis": {
            "backgroundcolor": "white",
            "gridcolor": "#DFE8F3",
            "gridwidth": 2,
            "linecolor": "#EBF0F8",
            "showbackground": true,
            "ticks": "",
            "zerolinecolor": "#EBF0F8"
           }
          },
          "shapedefaults": {
           "line": {
            "color": "#2a3f5f"
           }
          },
          "ternary": {
           "aaxis": {
            "gridcolor": "#DFE8F3",
            "linecolor": "#A2B1C6",
            "ticks": ""
           },
           "baxis": {
            "gridcolor": "#DFE8F3",
            "linecolor": "#A2B1C6",
            "ticks": ""
           },
           "bgcolor": "white",
           "caxis": {
            "gridcolor": "#DFE8F3",
            "linecolor": "#A2B1C6",
            "ticks": ""
           }
          },
          "title": {
           "x": 0.05
          },
          "xaxis": {
           "automargin": true,
           "gridcolor": "#EBF0F8",
           "linecolor": "#EBF0F8",
           "ticks": "",
           "title": {
            "standoff": 15
           },
           "zerolinecolor": "#EBF0F8",
           "zerolinewidth": 2
          },
          "yaxis": {
           "automargin": true,
           "gridcolor": "#EBF0F8",
           "linecolor": "#EBF0F8",
           "ticks": "",
           "title": {
            "standoff": 15
           },
           "zerolinecolor": "#EBF0F8",
           "zerolinewidth": 2
          }
         }
        },
        "title": {
         "text": "Valor de Reembolsos por Tipo de Despesa em 2022"
        },
        "xaxis": {
         "anchor": "y",
         "domain": [
          0,
          1
         ],
         "tickformat": "R$,",
         "title": {
          "text": "Valor Total de Reembolso (R$)"
         }
        },
        "yaxis": {
         "anchor": "x",
         "domain": [
          0,
          1
         ],
         "tickfont": {
          "size": 12
         },
         "tickmode": "linear",
         "title": {
          "text": "Tipo de Despesa"
         }
        }
       }
      }
     },
     "metadata": {},
     "output_type": "display_data"
    }
   ],
   "source": [
    "# Filtrando os dados para o ano de 2022\n",
    "ceaps_2022 = ceaps_total[ceaps_total['ANO'] == 2022]\n",
    "\n",
    "# Agrupando e somando os valores de reembolso por tipo de despesa em 2022\n",
    "valor_total_por_tipo_2022 = ceaps_2022.groupby('TIPO_DESPESA')['VALOR_REEMBOLSADO'].sum().reset_index()\n",
    "\n",
    "# Ordenando os tipos de despesa pelo valor total de reembolso em ordem decrescente\n",
    "valor_total_por_tipo_2022 = valor_total_por_tipo_2022.sort_values(by='VALOR_REEMBOLSADO', ascending=True)\n",
    "\n",
    "# Criando um gráfico de barras horizontal para visualizar os valores de reembolso por tipo de despesa em 2022\n",
    "fig = px.bar(\n",
    "    valor_total_por_tipo_2022,\n",
    "    x='VALOR_REEMBOLSADO',\n",
    "    y='TIPO_DESPESA',\n",
    "    title='Valor de Reembolsos por Tipo de Despesa em 2022',\n",
    "    labels={'VALOR_REEMBOLSADO': 'Valor Total de Reembolso (R$)', 'TIPO_DESPESA': 'Tipo de Despesa'},\n",
    "    template='plotly_white',\n",
    "    orientation='h',\n",
    "    text='VALOR_REEMBOLSADO'\n",
    ")\n",
    "\n",
    "# Ajustando o layout do gráfico\n",
    "fig.update_traces(\n",
    "    texttemplate='%{text:.2f}',  # Mostrar os valores de reembolso nas barras\n",
    "    textposition='inside',  # Colocar os textos fora das barras\n",
    "    marker_color='blue',  # Cor das barras\n",
    "    opacity=0.75  # Transparência das barras\n",
    ")\n",
    "\n",
    "fig.update_layout(\n",
    "    xaxis_title='Valor Total de Reembolso (R$)',\n",
    "    yaxis_title='Tipo de Despesa',\n",
    "    yaxis=dict(\n",
    "        tickmode='linear',  # Mostrar todos os tipos de despesa\n",
    "        tickfont=dict(size=12)  # Tamanho da fonte\n",
    "    ),\n",
    "    xaxis_tickformat='R$,',  # Formato do eixo X para valores monetários\n",
    "    margin=dict(l=20, r=20, t=60, b=60),  # Ajustar as margens\n",
    "    font=dict(size=12),  # Tamanho da fonte\n",
    "    plot_bgcolor='rgba(0, 0, 0, 0)',  # Fundo transparente\n",
    "    paper_bgcolor='rgba(0, 0, 0, 0)',  # Fundo do papel transparente\n",
    "    showlegend=False  # Ocultar a legenda\n",
    ")"
   ]
  },
  {
   "cell_type": "markdown",
   "id": "39fc6071-5eac-467a-a2bd-66cdafb87dc1",
   "metadata": {},
   "source": [
    "Gastos de 2019 a 2022 dividido por meses"
   ]
  },
  {
   "cell_type": "code",
   "execution_count": 31,
   "id": "b82ea953-76ae-494a-a58f-bb61d13b07d4",
   "metadata": {
    "tags": []
   },
   "outputs": [
    {
     "data": {
      "application/vnd.plotly.v1+json": {
       "config": {
        "plotlyServerURL": "https://plot.ly"
       },
       "data": [
        {
         "hovertemplate": "Ano=2019<br>Mês=%{x}<br>Valor Total de Reembolso (R$)=%{y}<extra></extra>",
         "legendgroup": "2019",
         "line": {
          "color": "#636efa",
          "dash": "solid"
         },
         "marker": {
          "symbol": "circle"
         },
         "mode": "lines+markers",
         "name": "2019",
         "orientation": "v",
         "showlegend": true,
         "type": "scatter",
         "x": [
          1,
          2,
          3,
          4,
          5,
          6,
          7,
          8,
          9,
          10,
          11,
          12
         ],
         "xaxis": "x",
         "y": [
          1598389.68,
          1720293.8800000001,
          1879841.79,
          2036964.21,
          2197949.53,
          2199537.09,
          1880208.8,
          2185251.87,
          2194227.97,
          2498802.24,
          2409187.95,
          2447587.39
         ],
         "yaxis": "y"
        },
        {
         "hovertemplate": "Ano=2020<br>Mês=%{x}<br>Valor Total de Reembolso (R$)=%{y}<extra></extra>",
         "legendgroup": "2020",
         "line": {
          "color": "#EF553B",
          "dash": "solid"
         },
         "marker": {
          "symbol": "circle"
         },
         "mode": "lines+markers",
         "name": "2020",
         "orientation": "v",
         "showlegend": true,
         "type": "scatter",
         "x": [
          1,
          2,
          3,
          4,
          5,
          6,
          7,
          8,
          9,
          10,
          11,
          12
         ],
         "xaxis": "x",
         "y": [
          1394867.81,
          1995004.61,
          1898897.77,
          1370273.52,
          1424952.36,
          1337697.28,
          1443425.1,
          1474374.82,
          1699203.99,
          1740068,
          1816168.43,
          2819989.91
         ],
         "yaxis": "y"
        },
        {
         "hovertemplate": "Ano=2021<br>Mês=%{x}<br>Valor Total de Reembolso (R$)=%{y}<extra></extra>",
         "legendgroup": "2021",
         "line": {
          "color": "#00cc96",
          "dash": "solid"
         },
         "marker": {
          "symbol": "circle"
         },
         "mode": "lines+markers",
         "name": "2021",
         "orientation": "v",
         "showlegend": true,
         "type": "scatter",
         "x": [
          1,
          2,
          3,
          4,
          5,
          6,
          7,
          8,
          9,
          10,
          11,
          12
         ],
         "xaxis": "x",
         "y": [
          1480043.35,
          1722629.43,
          1789766.34,
          1729045.62,
          2012278.79,
          2124626.29,
          2047952.63,
          2542257.54,
          2294229.27,
          2337155.23,
          2529827.34,
          2410512.01
         ],
         "yaxis": "y"
        },
        {
         "hovertemplate": "Ano=2022<br>Mês=%{x}<br>Valor Total de Reembolso (R$)=%{y}<extra></extra>",
         "legendgroup": "2022",
         "line": {
          "color": "#ab63fa",
          "dash": "solid"
         },
         "marker": {
          "symbol": "circle"
         },
         "mode": "lines+markers",
         "name": "2022",
         "orientation": "v",
         "showlegend": true,
         "type": "scatter",
         "x": [
          1,
          2,
          3,
          4,
          5,
          6,
          7,
          8,
          9,
          10,
          11,
          12
         ],
         "xaxis": "x",
         "y": [
          1814946.67,
          2251776.74,
          2735146.17,
          2416976.89,
          2573132.09,
          2223460.15,
          2201189.79,
          2107864.03,
          1637100.87,
          2099630.31,
          2459776.81,
          2772128.08
         ],
         "yaxis": "y"
        }
       ],
       "layout": {
        "font": {
         "size": 12
        },
        "legend": {
         "title": {
          "text": "Ano"
         },
         "tracegroupgap": 0
        },
        "margin": {
         "b": 60,
         "l": 20,
         "r": 20,
         "t": 60
        },
        "paper_bgcolor": "rgba(0, 0, 0, 0)",
        "plot_bgcolor": "rgba(0, 0, 0, 0)",
        "showlegend": true,
        "template": {
         "data": {
          "bar": [
           {
            "error_x": {
             "color": "#2a3f5f"
            },
            "error_y": {
             "color": "#2a3f5f"
            },
            "marker": {
             "line": {
              "color": "white",
              "width": 0.5
             },
             "pattern": {
              "fillmode": "overlay",
              "size": 10,
              "solidity": 0.2
             }
            },
            "type": "bar"
           }
          ],
          "barpolar": [
           {
            "marker": {
             "line": {
              "color": "white",
              "width": 0.5
             },
             "pattern": {
              "fillmode": "overlay",
              "size": 10,
              "solidity": 0.2
             }
            },
            "type": "barpolar"
           }
          ],
          "carpet": [
           {
            "aaxis": {
             "endlinecolor": "#2a3f5f",
             "gridcolor": "#C8D4E3",
             "linecolor": "#C8D4E3",
             "minorgridcolor": "#C8D4E3",
             "startlinecolor": "#2a3f5f"
            },
            "baxis": {
             "endlinecolor": "#2a3f5f",
             "gridcolor": "#C8D4E3",
             "linecolor": "#C8D4E3",
             "minorgridcolor": "#C8D4E3",
             "startlinecolor": "#2a3f5f"
            },
            "type": "carpet"
           }
          ],
          "choropleth": [
           {
            "colorbar": {
             "outlinewidth": 0,
             "ticks": ""
            },
            "type": "choropleth"
           }
          ],
          "contour": [
           {
            "colorbar": {
             "outlinewidth": 0,
             "ticks": ""
            },
            "colorscale": [
             [
              0,
              "#0d0887"
             ],
             [
              0.1111111111111111,
              "#46039f"
             ],
             [
              0.2222222222222222,
              "#7201a8"
             ],
             [
              0.3333333333333333,
              "#9c179e"
             ],
             [
              0.4444444444444444,
              "#bd3786"
             ],
             [
              0.5555555555555556,
              "#d8576b"
             ],
             [
              0.6666666666666666,
              "#ed7953"
             ],
             [
              0.7777777777777778,
              "#fb9f3a"
             ],
             [
              0.8888888888888888,
              "#fdca26"
             ],
             [
              1,
              "#f0f921"
             ]
            ],
            "type": "contour"
           }
          ],
          "contourcarpet": [
           {
            "colorbar": {
             "outlinewidth": 0,
             "ticks": ""
            },
            "type": "contourcarpet"
           }
          ],
          "heatmap": [
           {
            "colorbar": {
             "outlinewidth": 0,
             "ticks": ""
            },
            "colorscale": [
             [
              0,
              "#0d0887"
             ],
             [
              0.1111111111111111,
              "#46039f"
             ],
             [
              0.2222222222222222,
              "#7201a8"
             ],
             [
              0.3333333333333333,
              "#9c179e"
             ],
             [
              0.4444444444444444,
              "#bd3786"
             ],
             [
              0.5555555555555556,
              "#d8576b"
             ],
             [
              0.6666666666666666,
              "#ed7953"
             ],
             [
              0.7777777777777778,
              "#fb9f3a"
             ],
             [
              0.8888888888888888,
              "#fdca26"
             ],
             [
              1,
              "#f0f921"
             ]
            ],
            "type": "heatmap"
           }
          ],
          "heatmapgl": [
           {
            "colorbar": {
             "outlinewidth": 0,
             "ticks": ""
            },
            "colorscale": [
             [
              0,
              "#0d0887"
             ],
             [
              0.1111111111111111,
              "#46039f"
             ],
             [
              0.2222222222222222,
              "#7201a8"
             ],
             [
              0.3333333333333333,
              "#9c179e"
             ],
             [
              0.4444444444444444,
              "#bd3786"
             ],
             [
              0.5555555555555556,
              "#d8576b"
             ],
             [
              0.6666666666666666,
              "#ed7953"
             ],
             [
              0.7777777777777778,
              "#fb9f3a"
             ],
             [
              0.8888888888888888,
              "#fdca26"
             ],
             [
              1,
              "#f0f921"
             ]
            ],
            "type": "heatmapgl"
           }
          ],
          "histogram": [
           {
            "marker": {
             "pattern": {
              "fillmode": "overlay",
              "size": 10,
              "solidity": 0.2
             }
            },
            "type": "histogram"
           }
          ],
          "histogram2d": [
           {
            "colorbar": {
             "outlinewidth": 0,
             "ticks": ""
            },
            "colorscale": [
             [
              0,
              "#0d0887"
             ],
             [
              0.1111111111111111,
              "#46039f"
             ],
             [
              0.2222222222222222,
              "#7201a8"
             ],
             [
              0.3333333333333333,
              "#9c179e"
             ],
             [
              0.4444444444444444,
              "#bd3786"
             ],
             [
              0.5555555555555556,
              "#d8576b"
             ],
             [
              0.6666666666666666,
              "#ed7953"
             ],
             [
              0.7777777777777778,
              "#fb9f3a"
             ],
             [
              0.8888888888888888,
              "#fdca26"
             ],
             [
              1,
              "#f0f921"
             ]
            ],
            "type": "histogram2d"
           }
          ],
          "histogram2dcontour": [
           {
            "colorbar": {
             "outlinewidth": 0,
             "ticks": ""
            },
            "colorscale": [
             [
              0,
              "#0d0887"
             ],
             [
              0.1111111111111111,
              "#46039f"
             ],
             [
              0.2222222222222222,
              "#7201a8"
             ],
             [
              0.3333333333333333,
              "#9c179e"
             ],
             [
              0.4444444444444444,
              "#bd3786"
             ],
             [
              0.5555555555555556,
              "#d8576b"
             ],
             [
              0.6666666666666666,
              "#ed7953"
             ],
             [
              0.7777777777777778,
              "#fb9f3a"
             ],
             [
              0.8888888888888888,
              "#fdca26"
             ],
             [
              1,
              "#f0f921"
             ]
            ],
            "type": "histogram2dcontour"
           }
          ],
          "mesh3d": [
           {
            "colorbar": {
             "outlinewidth": 0,
             "ticks": ""
            },
            "type": "mesh3d"
           }
          ],
          "parcoords": [
           {
            "line": {
             "colorbar": {
              "outlinewidth": 0,
              "ticks": ""
             }
            },
            "type": "parcoords"
           }
          ],
          "pie": [
           {
            "automargin": true,
            "type": "pie"
           }
          ],
          "scatter": [
           {
            "fillpattern": {
             "fillmode": "overlay",
             "size": 10,
             "solidity": 0.2
            },
            "type": "scatter"
           }
          ],
          "scatter3d": [
           {
            "line": {
             "colorbar": {
              "outlinewidth": 0,
              "ticks": ""
             }
            },
            "marker": {
             "colorbar": {
              "outlinewidth": 0,
              "ticks": ""
             }
            },
            "type": "scatter3d"
           }
          ],
          "scattercarpet": [
           {
            "marker": {
             "colorbar": {
              "outlinewidth": 0,
              "ticks": ""
             }
            },
            "type": "scattercarpet"
           }
          ],
          "scattergeo": [
           {
            "marker": {
             "colorbar": {
              "outlinewidth": 0,
              "ticks": ""
             }
            },
            "type": "scattergeo"
           }
          ],
          "scattergl": [
           {
            "marker": {
             "colorbar": {
              "outlinewidth": 0,
              "ticks": ""
             }
            },
            "type": "scattergl"
           }
          ],
          "scattermapbox": [
           {
            "marker": {
             "colorbar": {
              "outlinewidth": 0,
              "ticks": ""
             }
            },
            "type": "scattermapbox"
           }
          ],
          "scatterpolar": [
           {
            "marker": {
             "colorbar": {
              "outlinewidth": 0,
              "ticks": ""
             }
            },
            "type": "scatterpolar"
           }
          ],
          "scatterpolargl": [
           {
            "marker": {
             "colorbar": {
              "outlinewidth": 0,
              "ticks": ""
             }
            },
            "type": "scatterpolargl"
           }
          ],
          "scatterternary": [
           {
            "marker": {
             "colorbar": {
              "outlinewidth": 0,
              "ticks": ""
             }
            },
            "type": "scatterternary"
           }
          ],
          "surface": [
           {
            "colorbar": {
             "outlinewidth": 0,
             "ticks": ""
            },
            "colorscale": [
             [
              0,
              "#0d0887"
             ],
             [
              0.1111111111111111,
              "#46039f"
             ],
             [
              0.2222222222222222,
              "#7201a8"
             ],
             [
              0.3333333333333333,
              "#9c179e"
             ],
             [
              0.4444444444444444,
              "#bd3786"
             ],
             [
              0.5555555555555556,
              "#d8576b"
             ],
             [
              0.6666666666666666,
              "#ed7953"
             ],
             [
              0.7777777777777778,
              "#fb9f3a"
             ],
             [
              0.8888888888888888,
              "#fdca26"
             ],
             [
              1,
              "#f0f921"
             ]
            ],
            "type": "surface"
           }
          ],
          "table": [
           {
            "cells": {
             "fill": {
              "color": "#EBF0F8"
             },
             "line": {
              "color": "white"
             }
            },
            "header": {
             "fill": {
              "color": "#C8D4E3"
             },
             "line": {
              "color": "white"
             }
            },
            "type": "table"
           }
          ]
         },
         "layout": {
          "annotationdefaults": {
           "arrowcolor": "#2a3f5f",
           "arrowhead": 0,
           "arrowwidth": 1
          },
          "autotypenumbers": "strict",
          "coloraxis": {
           "colorbar": {
            "outlinewidth": 0,
            "ticks": ""
           }
          },
          "colorscale": {
           "diverging": [
            [
             0,
             "#8e0152"
            ],
            [
             0.1,
             "#c51b7d"
            ],
            [
             0.2,
             "#de77ae"
            ],
            [
             0.3,
             "#f1b6da"
            ],
            [
             0.4,
             "#fde0ef"
            ],
            [
             0.5,
             "#f7f7f7"
            ],
            [
             0.6,
             "#e6f5d0"
            ],
            [
             0.7,
             "#b8e186"
            ],
            [
             0.8,
             "#7fbc41"
            ],
            [
             0.9,
             "#4d9221"
            ],
            [
             1,
             "#276419"
            ]
           ],
           "sequential": [
            [
             0,
             "#0d0887"
            ],
            [
             0.1111111111111111,
             "#46039f"
            ],
            [
             0.2222222222222222,
             "#7201a8"
            ],
            [
             0.3333333333333333,
             "#9c179e"
            ],
            [
             0.4444444444444444,
             "#bd3786"
            ],
            [
             0.5555555555555556,
             "#d8576b"
            ],
            [
             0.6666666666666666,
             "#ed7953"
            ],
            [
             0.7777777777777778,
             "#fb9f3a"
            ],
            [
             0.8888888888888888,
             "#fdca26"
            ],
            [
             1,
             "#f0f921"
            ]
           ],
           "sequentialminus": [
            [
             0,
             "#0d0887"
            ],
            [
             0.1111111111111111,
             "#46039f"
            ],
            [
             0.2222222222222222,
             "#7201a8"
            ],
            [
             0.3333333333333333,
             "#9c179e"
            ],
            [
             0.4444444444444444,
             "#bd3786"
            ],
            [
             0.5555555555555556,
             "#d8576b"
            ],
            [
             0.6666666666666666,
             "#ed7953"
            ],
            [
             0.7777777777777778,
             "#fb9f3a"
            ],
            [
             0.8888888888888888,
             "#fdca26"
            ],
            [
             1,
             "#f0f921"
            ]
           ]
          },
          "colorway": [
           "#636efa",
           "#EF553B",
           "#00cc96",
           "#ab63fa",
           "#FFA15A",
           "#19d3f3",
           "#FF6692",
           "#B6E880",
           "#FF97FF",
           "#FECB52"
          ],
          "font": {
           "color": "#2a3f5f"
          },
          "geo": {
           "bgcolor": "white",
           "lakecolor": "white",
           "landcolor": "white",
           "showlakes": true,
           "showland": true,
           "subunitcolor": "#C8D4E3"
          },
          "hoverlabel": {
           "align": "left"
          },
          "hovermode": "closest",
          "mapbox": {
           "style": "light"
          },
          "paper_bgcolor": "white",
          "plot_bgcolor": "white",
          "polar": {
           "angularaxis": {
            "gridcolor": "#EBF0F8",
            "linecolor": "#EBF0F8",
            "ticks": ""
           },
           "bgcolor": "white",
           "radialaxis": {
            "gridcolor": "#EBF0F8",
            "linecolor": "#EBF0F8",
            "ticks": ""
           }
          },
          "scene": {
           "xaxis": {
            "backgroundcolor": "white",
            "gridcolor": "#DFE8F3",
            "gridwidth": 2,
            "linecolor": "#EBF0F8",
            "showbackground": true,
            "ticks": "",
            "zerolinecolor": "#EBF0F8"
           },
           "yaxis": {
            "backgroundcolor": "white",
            "gridcolor": "#DFE8F3",
            "gridwidth": 2,
            "linecolor": "#EBF0F8",
            "showbackground": true,
            "ticks": "",
            "zerolinecolor": "#EBF0F8"
           },
           "zaxis": {
            "backgroundcolor": "white",
            "gridcolor": "#DFE8F3",
            "gridwidth": 2,
            "linecolor": "#EBF0F8",
            "showbackground": true,
            "ticks": "",
            "zerolinecolor": "#EBF0F8"
           }
          },
          "shapedefaults": {
           "line": {
            "color": "#2a3f5f"
           }
          },
          "ternary": {
           "aaxis": {
            "gridcolor": "#DFE8F3",
            "linecolor": "#A2B1C6",
            "ticks": ""
           },
           "baxis": {
            "gridcolor": "#DFE8F3",
            "linecolor": "#A2B1C6",
            "ticks": ""
           },
           "bgcolor": "white",
           "caxis": {
            "gridcolor": "#DFE8F3",
            "linecolor": "#A2B1C6",
            "ticks": ""
           }
          },
          "title": {
           "x": 0.05
          },
          "xaxis": {
           "automargin": true,
           "gridcolor": "#EBF0F8",
           "linecolor": "#EBF0F8",
           "ticks": "",
           "title": {
            "standoff": 15
           },
           "zerolinecolor": "#EBF0F8",
           "zerolinewidth": 2
          },
          "yaxis": {
           "automargin": true,
           "gridcolor": "#EBF0F8",
           "linecolor": "#EBF0F8",
           "ticks": "",
           "title": {
            "standoff": 15
           },
           "zerolinecolor": "#EBF0F8",
           "zerolinewidth": 2
          }
         }
        },
        "title": {
         "text": "Gastos mensais de Reembolso de 2019 a 2022"
        },
        "xaxis": {
         "anchor": "y",
         "domain": [
          0,
          1
         ],
         "ticktext": [
          "Jan",
          "Fev",
          "Mar",
          "Abr",
          "Mai",
          "Jun",
          "Jul",
          "Ago",
          "Set",
          "Out",
          "Nov",
          "Dez"
         ],
         "tickvals": [
          1,
          2,
          3,
          4,
          5,
          6,
          7,
          8,
          9,
          10,
          11,
          12
         ],
         "title": {
          "text": "Mês"
         }
        },
        "yaxis": {
         "anchor": "x",
         "domain": [
          0,
          1
         ],
         "tickformat": "R$,",
         "title": {
          "text": "Valor Total de Reembolso (R$)"
         }
        }
       }
      }
     },
     "metadata": {},
     "output_type": "display_data"
    }
   ],
   "source": [
    "# Filtrando os dados para os anos de 2019 a 2022\n",
    "ceaps_2019_2022 = ceaps_total[(ceaps_total['ANO'] >= 2019) & (ceaps_total['ANO'] <= 2022)]\n",
    "\n",
    "# Agrupando e somando os valores de reembolso por mês e ano\n",
    "gastos_mensais = ceaps_2019_2022.groupby(['ANO', 'MES'])['VALOR_REEMBOLSADO'].sum().reset_index()\n",
    "\n",
    "# Criando o gráfico de linhas com cores diferentes para cada ano\n",
    "fig = px.line(\n",
    "    gastos_mensais,\n",
    "    x='MES',  # Usar MES como eixo x\n",
    "    y='VALOR_REEMBOLSADO',\n",
    "    color='ANO',  # Colorir por ano\n",
    "    title='Gastos mensais de Reembolso de 2019 a 2022',\n",
    "    labels={'VALOR_REEMBOLSADO': 'Valor Total de Reembolso (R$)', 'MES': 'Mês', 'ANO': 'Ano'},\n",
    "    template='plotly_white',\n",
    "    markers=True  # Adicionar marcadores nos pontos de dados\n",
    ")\n",
    "\n",
    "# Ajustando o layout do gráfico\n",
    "fig.update_layout(\n",
    "    xaxis_title='Mês',\n",
    "    yaxis_title='Valor Total de Reembolso (R$)',\n",
    "    xaxis_tickvals=[1, 2, 3, 4, 5, 6, 7, 8, 9, 10, 11, 12],  # Definir os valores dos ticks no eixo x\n",
    "    xaxis_ticktext=['Jan', 'Fev', 'Mar', 'Abr', 'Mai', 'Jun', 'Jul', 'Ago', 'Set', 'Out', 'Nov', 'Dez'],  # Nome dos meses no eixo x\n",
    "    yaxis_tickformat='R$,',  # Formato para valores monetários\n",
    "    font=dict(size=12),  # Tamanho da fonte\n",
    "    margin=dict(l=20, r=20, t=60, b=60),  # Ajustar margens\n",
    "    plot_bgcolor='rgba(0, 0, 0, 0)',  # Fundo do gráfico transparente\n",
    "    paper_bgcolor='rgba(0, 0, 0, 0)',  # Fundo do papel transparente\n",
    "    showlegend=True,  # Mostrar legenda\n",
    "    legend_title_text='Ano'  # Título da legenda\n",
    ")\n"
   ]
  },
  {
   "cell_type": "code",
   "execution_count": null,
   "id": "278ad14b-413d-40f7-b432-913539695307",
   "metadata": {},
   "outputs": [],
   "source": []
  }
 ],
 "metadata": {
  "kernelspec": {
   "display_name": "Python 3 (ipykernel)",
   "language": "python",
   "name": "python3"
  },
  "language_info": {
   "codemirror_mode": {
    "name": "ipython",
    "version": 3
   },
   "file_extension": ".py",
   "mimetype": "text/x-python",
   "name": "python",
   "nbconvert_exporter": "python",
   "pygments_lexer": "ipython3",
   "version": "3.12.1"
  }
 },
 "nbformat": 4,
 "nbformat_minor": 5
}
